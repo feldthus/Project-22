{
  "cells": [
    {
      "cell_type": "markdown",
      "metadata": {
        "id": "FgWI1eIHd2B7"
      },
      "source": [
        "# Wind Power Predictions"
      ]
    },
    {
      "cell_type": "markdown",
      "metadata": {
        "id": "TzFeHPiOeFXE"
      },
      "source": [
        "## Unzip Meteodyn.zip to Data\n",
        "\n",
        "(Remember to upload zip-file)"
      ]
    },
    {
      "cell_type": "code",
      "execution_count": 1,
      "metadata": {
        "id": "_5UB2ri9urSf"
      },
      "outputs": [],
      "source": [
        "from tqdm import tqdm # for progress bar as alternative or suplement, use EXAMPLE: for f in tqdm(os.listdir(label)):\n",
        "import time # for the script below\n",
        "# get the matlab known and loved funtion\n",
        "def TicTocGenerator():\n",
        "    # Generator that returns time differences\n",
        "    ti = 0           # initial time\n",
        "    tf = time.time() # final time\n",
        "    while True:\n",
        "        ti = tf\n",
        "        tf = time.time()\n",
        "        yield tf-ti # returns the time difference\n",
        "\n",
        "TicToc = TicTocGenerator() # create an instance of the TicTocGen generator\n",
        "\n",
        "# This will be the main function through which we define both tic() and toc()\n",
        "def toc(tempBool=True):\n",
        "    # Prints the time difference yielded by generator instance TicToc\n",
        "    tempTimeInterval = next(TicToc)\n",
        "    if tempBool:\n",
        "        print( \"  --Elapsed time: %.2f seconds.\\n\" %tempTimeInterval )\n",
        "\n",
        "def tic():\n",
        "    # Records a time in TicToc, marks the beginning of a time interval\n",
        "    toc(False)"
      ]
    },
    {
      "cell_type": "code",
      "execution_count": 2,
      "metadata": {
        "colab": {
          "base_uri": "https://localhost:8080/"
        },
        "id": "zHzZRV9-c1oU",
        "outputId": "5073d2d7-7311-4cef-8d03-ca02db303f8d"
      },
      "outputs": [
        {
          "output_type": "stream",
          "name": "stdout",
          "text": [
            "Drive already mounted at /content/drive; to attempt to forcibly remount, call drive.mount(\"/content/drive\", force_remount=True).\n"
          ]
        }
      ],
      "source": [
        "# Choose unpacking method\n",
        "if 0:\n",
        "  !unzip Meteodyn.zip -d Data\n",
        "if 1:\n",
        "  # Keep eye on data as it trains to prevent overfitting\n",
        "  # special insertion for colab, also paths\n",
        "  #upload using colab, method adjusted from a search\n",
        "  from google.colab import drive\n",
        "  drive.mount('/content/drive')\n",
        "  path = \"/content/drive/MyDrive/Colab Notebooks/22 - Project\"\n",
        "# path = \" Your path Emil \"\n",
        "# To save: Use torch.save(tensor, 'file.pt') and torch.load('file.pt')"
      ]
    },
    {
      "cell_type": "markdown",
      "metadata": {
        "id": "vgTm1lJseKUJ"
      },
      "source": [
        "## Data Visualisation"
      ]
    },
    {
      "cell_type": "code",
      "execution_count": 3,
      "metadata": {
        "id": "nWbf4-gt0l-W"
      },
      "outputs": [],
      "source": [
        "# Imports\n",
        "import pandas as pd\n",
        "import matplotlib.pyplot as plt\n",
        "import numpy as np\n",
        "\n",
        "if 1:\n",
        "  # Dataframes:\n",
        "  case = str(1)\n",
        "  df1 = pd.read_csv(path+\"/Data/Raw/Proj_NWP_Case\"+case+\".csv\")\n",
        "  df2 = pd.read_csv(path+\"/Data/Raw/Proj_Measurements_Case\"+case+\".csv\")\n",
        "else:\n",
        "  # Dataframes:\n",
        "  df1 = pd.read_csv(\"Data/Datasets/Case1/Proj_NWP_Case1.csv\")\n",
        "  df2 = pd.read_csv(\"Data/Datasets/Case1/Proj_Measurements_Case1.csv\")\n",
        "\n",
        "# Attributes:\n",
        "dir_id   = np.arange(len(df1.columns))[df1.columns.str.contains(\"Direction\")]\n",
        "speed_id = np.arange(len(df1.columns))[df1.columns.str.contains(\"Speed\")]\n",
        "temp_id  = np.arange(len(df1.columns))[df1.columns.str.contains(\"Temperature\")]\n",
        "dens_id  = np.arange(len(df1.columns))[df1.columns.str.contains(\"Density\")]\n",
        "other_id = np.asarray(list(set([x for x in range(len(df1.columns))]).difference(set(np.r_[dir_id, speed_id, temp_id, dens_id])))) # Dirty Hack\n",
        "\n",
        "# Target:\n",
        "targets = df2['Park Power [KW]']\n",
        "\n",
        "# Non-Nan Ids\n",
        "non_nan_ids = (1 - df2['Park Power [KW]'].isnull().values) * np.arange(df2.shape[0])\n",
        "\n",
        "if 0: # Make plots\n",
        "  # Air Directions:\n",
        "  fig = plt.figure(figsize=(8,5))\n",
        "  for i in range(4):\n",
        "    ax = fig.add_subplot(2,2,i+1)\n",
        "    col_name = df1.columns[dir_id[i]]\n",
        "    ax.hist(df1[col_name], bins=360, density=True)\n",
        "    ax.title.set_text(col_name)\n",
        "    ax.set_xlabel(\"Air Direction [deg]\")\n",
        "\n",
        "  fig.suptitle(\"Air Directions at [10, 50, 100, 150] \\n meters above wind turbine\\n\")\n",
        "\n",
        "  fig.tight_layout(rect=[0, 0.03, 1, 0.9])\n",
        "  plt.show()\n",
        "\n",
        "  # Air Speeds:\n",
        "  fig = plt.figure(figsize=(8,5))\n",
        "  for i in range(4):\n",
        "    ax = fig.add_subplot(2,2,i+1)\n",
        "    col_name = df1.columns[speed_id[i]]\n",
        "    ax.hist(df1[col_name], bins=[x for x in range(int(np.ceil(np.max(np.max(df1[df1.columns[speed_id]])))))], density=True)\n",
        "    ax.title.set_text(col_name)\n",
        "    ax.set_xlabel(\"Air Speed [m/s]\")\n",
        "\n",
        "  fig.suptitle(\"Air Speeds at [10, 50, 100, 150] \\n meters above wind turbine\\n\")\n",
        "\n",
        "  fig.tight_layout(rect=[0, 0.03, 1, 0.9])\n",
        "  plt.show()\n",
        "\n",
        "  # Air Temperatures:\n",
        "  fig = plt.figure(figsize=(8,5))\n",
        "  for i in range(4):\n",
        "    ax = fig.add_subplot(2,2,i+1)\n",
        "    col_name = df1.columns[temp_id[i]]\n",
        "    ax.hist(df1[col_name], bins=360, density=True)\n",
        "    ax.title.set_text(col_name)\n",
        "    ax.set_xlabel(\"Temperatures [C]\")\n",
        "\n",
        "  fig.suptitle(\"Air Temperatures at [10, 50, 100, 150] \\n meters above wind turbine\\n\")\n",
        "\n",
        "  fig.tight_layout(rect=[0, 0.03, 1, 0.9])\n",
        "  plt.show()\n",
        "\n",
        "  # Air Densities:\n",
        "  fig = plt.figure(figsize=(8,5))\n",
        "  for i in range(4):\n",
        "    ax = fig.add_subplot(2,2,i+1)\n",
        "    col_name = df1.columns[dens_id[i]]\n",
        "    ax.hist(df1[col_name], bins=360, density=True)\n",
        "    ax.title.set_text(col_name)\n",
        "    ax.set_xlabel(\"Air Densities\")\n",
        "\n",
        "  fig.suptitle(\"Air Densities at [10, 50, 100, 150] \\n meters above wind turbine\\n\")\n",
        "\n",
        "  fig.tight_layout(rect=[0, 0.03, 1, 0.9])\n",
        "  plt.show()\n",
        "\n",
        "  #df2 = pd.read_csv(\"Data/Datasets/Case1/Proj_Measurements_Case1.csv\") # is loaded above\n",
        "  value_ids = (1 - df2['Park Power [KW]'].isnull().values) * np.arange(df2.shape[0])\n",
        "  plt.hist(df2['Park Power [KW]']/(33*1500), bins=200)\n",
        "  plt.show()"
      ]
    },
    {
      "cell_type": "markdown",
      "metadata": {
        "id": "7qmkkzlMV4-K"
      },
      "source": [
        "## Preprocessing Data"
      ]
    },
    {
      "cell_type": "markdown",
      "metadata": {
        "id": "aY2bp5xosDN4"
      },
      "source": [
        "### Data Normalization and picking - first method"
      ]
    },
    {
      "cell_type": "code",
      "execution_count": 4,
      "metadata": {
        "id": "nWp8qeosXNM2"
      },
      "outputs": [],
      "source": [
        "if 0: \n",
        "  # Imports\n",
        "  DAYTIME = False\n",
        "  # Create new dataframe and sort\n",
        "  df3 = df1.copy()\n",
        "  df3 = df3.reindex(columns = list(df1.columns[np.r_[other_id, dir_id, speed_id, temp_id, dens_id]].values))\n",
        "\n",
        "  if DAYTIME:\n",
        "    import datetime\n",
        "\n",
        "    # Split Date_Time into year, month, week, week-day, month-day, hourly quarter\n",
        "    date_time_array = np.zeros((len(df3['Date_Time']), 6))\n",
        "\n",
        "    for i in range(len(df3['Date_Time'])):\n",
        "      YYYY, mm, w, dd, HH, MM, SS = (datetime.datetime.strptime(df3['Date_Time'][i], \"%Y-%m-%d %H:%M:%S\").strftime(\"%Y, %m, %w, %d, %H, %M, %S\")).split(\",\")\n",
        "      date_time_array[i, :] = np.array([float(YYYY), float(mm), np.floor(float(mm)/7 + 1), float(w), float(dd), float(HH)*4 + float(MM)/15])\n",
        "\n",
        "    # Add datetime data to attributes:\n",
        "    index_list = [\"Year\", \"Month\", \"Week\", \"Weekday\", \"Monthday\", \"Hourly_Quarter\"]\n",
        "    for i in range(len(index_list)):\n",
        "      df3[index_list[i]] = pd.Series(date_time_array[:, i], index=df3.index)\n",
        "\n",
        "    # Remove datetime features...:\n",
        "    df3 = df3.iloc[:, 0:17]\n",
        "\n",
        "  # Remove Date_Time attribute:\n",
        "  df3 = df3.iloc[:, 1:]\n",
        "\n",
        "\n",
        "  # Normalize attributes:\n",
        "  if 0: # first approch\n",
        "    df3_norm = df3.copy()\n",
        "    df3_norm.iloc[:,0] /= 1013.25   # Average sea pressure [mbar]\n",
        "    df3_norm.iloc[:,1:5] /= 360     # Conversion [deg -> [0,1]-interval]\n",
        "    df3_norm.iloc[:, 5:9] /= 12     # Divide by lowest speed that achieves 100% power output\n",
        "    df3_norm.iloc[:,13:17] /= 1.225 # Average air density [kg/m^3]\n",
        "    #df3_norm.iloc[:, -1] -= 2016    # Subtract starting year [yr] # not to be done if removing day time\n",
        "    df3_norm.iloc[:, 9:13] = (df3_norm.iloc[:, 9:13] - np.mean(df3_norm.iloc[:, 9:13])) /  np.std(df3_norm.iloc[:, 9:13]) # Standardized Normalization of Temperature\n",
        "    df3_norm.iloc[:,0:17] -= 0.5 # normalize around 0.5 instead of 1\n",
        "\n",
        "\n",
        "\n",
        "  # Add Park Power Output to dataframe: # kept the same way\n",
        "  PP = df2['Park Power [KW]'] # / (33*1500) # by capacity\n",
        "  df3['PP'] = pd.Series(PP, index=df3.index)\n",
        "\n",
        "  #normalize values in every column # second\n",
        "  df3_norm = (df3-df3.min())/ (df3.max() - df3.min())\n",
        "  #df3_norm = df3_norm.iloc[35713:] # cut of the first values to mabye allign\n",
        "\n",
        "\n",
        "\n",
        "  # Remove rows with no target values:\n",
        "  df_final_unaltered = df3_norm[~df3_norm.iloc[:, -1].isnull()]\n",
        "  new_index = ['Pressure_seaLevel',\t'Direction_10m'\t,'Direction_50m',\t'Direction_100m',\t'Direction_150m',\t'Speed_10m',\t'Speed_50m'\t,'Speed_100m',\t'Speed_150m',\t'Temperature_10m'\t,'Temperature_50m',\t'Temperature_100m'\t,'Temperature_150m'\t,'Air Density_10m',\t'Air Density_50m'\t,'Air Density_100m',\t'Air Density_150m'\t,'PP']\n",
        "  df_final_unaltered = df_final_unaltered.reindex(columns=new_index)"
      ]
    },
    {
      "cell_type": "code",
      "execution_count": 5,
      "metadata": {
        "id": "fcyFrpi5zc1P"
      },
      "outputs": [],
      "source": [
        "if 0:\n",
        "  # Reset\n",
        "  df = df_final_unaltered\n",
        "  #df.Speed_50m\n",
        "  # Only takes POSITIVE AND!!! non-ZERO power\n",
        "  df = df.query(\"PP >= 0.0\") # consider setting > 0.0001\n",
        "  print(sum(df.iloc[:,-1]<=0))\n",
        "  #print(df.shape)\n",
        "  # CUT OF QUESTIONABLE DATA, ~ is negation\n",
        "  #df_final = df3_norm[~df3_norm.iloc[:, -1].isnull()]\n",
        "  #df = df.query('Speed_150m >= 0.5 & PP <= 0.4') # does the inverse, makes PP.max() = 0.4\n",
        "  #df = df[~(( df.Speed_150m >= 0.2 ) & ( df.PP <= 0.2 ))]\n",
        "  df = df.query('not((Speed_100m > 0.20) & (PP < 0.20))') # cut out wind blowing, but no power = Maintenaince?\n",
        "  df = df.query('not((Speed_100m < 0.20) & (PP > 0.80))') # cut out power from no wind = error in forecast/mismatch?\n",
        "  #df = df.query('(Speed_100m < 0.25) & (PP > 0.8)')\n",
        "  ## good enought?\n",
        "  df_final = df\n",
        "  df_final.reindex(columns=new_index)\n",
        "  print(\"Sample value of features:\\n\",df_final.iloc[0])\n",
        "  print(\"Mean values of target: \",(df_final.iloc[:,-1]).mean())\n",
        "  print(\"Shape is: \",df_final.shape)"
      ]
    },
    {
      "cell_type": "markdown",
      "metadata": {
        "id": "0iE3tw-8vI4I"
      },
      "source": [
        "#### Processed vizualized"
      ]
    },
    {
      "cell_type": "code",
      "execution_count": 6,
      "metadata": {
        "id": "6CPpxOmNSEYc"
      },
      "outputs": [],
      "source": [
        "if 0:\n",
        "  # Attributes NORMALIZED:\n",
        "  dir_id   = np.arange(len(df_final.columns))[df_final.columns.str.contains(\"Direction\")]\n",
        "  speed_id = np.arange(len(df_final.columns))[df_final.columns.str.contains(\"Speed\")]\n",
        "  temp_id  = np.arange(len(df_final.columns))[df_final.columns.str.contains(\"Temperature\")]\n",
        "  dens_id  = np.arange(len(df_final.columns))[df_final.columns.str.contains(\"Density\")]\n",
        "  other_id = np.asarray(list(set([x for x in range(len(df_final.columns))]).difference(set(np.r_[dir_id, speed_id, temp_id, dens_id])))) # Dirty Hack\n",
        "\n",
        "  # Target:\n",
        "  targets = df_final['PP']\n",
        "\n",
        "  # Non-Nan Ids\n",
        "  non_nan_ids = (1 - df_final['PP'].isnull().values) * np.arange(df_final.shape[0])\n",
        "\n",
        "  # Air Directions:\n",
        "  fig = plt.figure(figsize=(8,5))\n",
        "  for i in range(4):\n",
        "    ax = fig.add_subplot(2,2,i+1)\n",
        "    col_name = df_final.columns[dir_id[i]]\n",
        "    ax.hist(df_final[col_name], bins=360, density=True)\n",
        "    ax.title.set_text(col_name)\n",
        "    ax.set_xlabel(\"Air Direction [deg]\")\n",
        "\n",
        "  fig.suptitle(\"Air Directions at [10, 50, 100, 150] \\n meters above wind turbine\\n\")\n",
        "\n",
        "  fig.tight_layout(rect=[0, 0.03, 1, 0.9])\n",
        "  plt.show()\n",
        "\n",
        "  # Air Speeds:\n",
        "  fig = plt.figure(figsize=(8,5))\n",
        "  for i in range(4):\n",
        "    ax = fig.add_subplot(2,2,i+1)\n",
        "    col_name = df_final.columns[speed_id[i]]\n",
        "    ax.hist(df_final[col_name], bins=100, density=True)\n",
        "    ax.title.set_text(col_name)\n",
        "    ax.set_xlabel(\"Air Speed [m/s]\")\n",
        "\n",
        "  fig.suptitle(\"Air Speeds at [10, 50, 100, 150] \\n meters above wind turbine\\n\")\n",
        "\n",
        "  fig.tight_layout(rect=[0, 0.03, 1, 0.9])\n",
        "  plt.show()\n",
        "\n",
        "  # Air Temperatures:\n",
        "  fig = plt.figure(figsize=(8,5))\n",
        "  for i in range(4):\n",
        "    ax = fig.add_subplot(2,2,i+1)\n",
        "    col_name = df_final.columns[temp_id[i]]\n",
        "    ax.hist(df_final[col_name], bins=360, density=True)\n",
        "    ax.title.set_text(col_name)\n",
        "    ax.set_xlabel(\"Temperatures [C]\")\n",
        "\n",
        "  fig.suptitle(\"Air Temperatures at [10, 50, 100, 150] \\n meters above wind turbine\\n\")\n",
        "\n",
        "  fig.tight_layout(rect=[0, 0.03, 1, 0.9])\n",
        "  plt.show()\n",
        "\n",
        "  # Air Densities:\n",
        "  fig = plt.figure(figsize=(8,5))\n",
        "  for i in range(4):\n",
        "    ax = fig.add_subplot(2,2,i+1)\n",
        "    col_name = df_final.columns[dens_id[i]]\n",
        "    ax.hist(df_final[col_name], bins=360, density=True)\n",
        "    ax.title.set_text(col_name)\n",
        "    ax.set_xlabel(\"Air Densities\")\n",
        "\n",
        "  fig.suptitle(\"Air Densities at [10, 50, 100, 150] \\n meters above wind turbine\\n\")\n",
        "\n",
        "  fig.tight_layout(rect=[0, 0.03, 1, 0.9])\n",
        "  plt.show()\n",
        "\n",
        "  #df2 = pd.read_csv(\"Data/Datasets/Case1/Proj_Measurements_Case1.csv\") # is loaded above\n",
        "  #value_ids = (1 - df2['PP'].isnull().values) * np.arange(df2.shape[0])\n",
        "  plt.hist(df_final['PP'], bins=200)\n",
        "  plt.show()"
      ]
    },
    {
      "cell_type": "code",
      "execution_count": 7,
      "metadata": {
        "id": "eha1w2yRs6Sy"
      },
      "outputs": [],
      "source": [
        "#SCATTER\n",
        "if 0:\n",
        "  for i, key in enumerate(df_final.keys()):\n",
        "      fig = plt.figure()\n",
        "      col_name = df_final.keys()[i]\n",
        "      plt.scatter(df_final[key], df_final.iloc[:, -1], alpha=0.005)\n",
        "      plt.title(col_name+\" vs. Park Power\")\n",
        "      plt.show()"
      ]
    },
    {
      "cell_type": "markdown",
      "metadata": {
        "id": "5MwYGdbFUDV_"
      },
      "source": [
        "### Alternate sorting - is based on power-curve\n",
        "change: muliplier = [1 , 3 , 7 , 10]\n"
      ]
    },
    {
      "cell_type": "code",
      "execution_count": 8,
      "metadata": {
        "id": "VLE8qEj1UF8o"
      },
      "outputs": [],
      "source": [
        "# Preprocess data: (Removing erroneous rows and normalize/standardize data)\n",
        "if 1:\n",
        "    import datetime\n",
        "    muliplier = 1 # 1=10% max deviation from power curver\n",
        "    # Renaming\n",
        "    y = targets\n",
        "    X = df1.copy().iloc[:len(y), 1:]\n",
        "\n",
        "    # Remember what rows contain bad data:\n",
        "    rows_to_remove = np.zeros((len(y)), dtype=int)\n",
        "\n",
        "    # 1. Remove rows with negative power output:\n",
        "    rows_to_remove += (y < 0) * 1\n",
        "\n",
        "    # 2. Remove rows with NaN power output:\n",
        "    rows_to_remove += y.isnull() * 1\n",
        "\n",
        "    # 3. Remove rows with high power output but wrong wind direction\n",
        "\n",
        "    #   3.1: Find optimal wind direction:\n",
        "    opt_dirs = []\n",
        "    for dir in dir_id:\n",
        "        (size, _) = np.histogram(X[X.columns[dir - 1]], bins=359)\n",
        "        opt_dirs.append(size.argmax())\n",
        "    opt_dir = np.array([opt_dirs]).mean()\n",
        "\n",
        "    #   3.2: Cross reference power with wind directions:\n",
        "    good_angle = 45\n",
        "    good_dirs = ((X[X.columns[dir_id - 1]] > (opt_dir - good_angle)) & (X[X.columns[dir_id - 1]] < (opt_dir + good_angle))).prod(\n",
        "        axis=1).astype(bool)\n",
        "    bad_dirs = (1 - good_dirs).astype(bool)\n",
        "\n",
        "    rows_to_remove += y * bad_dirs > (49500 * 0.1)\n",
        "\n",
        "    # 4. Remove rows with high power output but low wind speed:\n",
        "    rows_to_remove += ((((X[X.columns[speed_id - 1]] < 3).prod(axis=1)).astype(bool) * y) > 33 * 12)\n",
        "\n",
        "    # 5. Remove rows with no power output but high wind speeds and good directions\n",
        "    if 0:\n",
        "        rows_to_remove += (((X[X.columns[speed_id - 1]] > 4).prod(axis=1) * good_dirs) * (y < 37 / 2 * 33))\n",
        "        rows_to_remove += (((X[X.columns[speed_id - 1]] > 5).prod(axis=1) * good_dirs) * (y < 122 / 2 * 33))\n",
        "        rows_to_remove += (((X[X.columns[speed_id - 1]] > 6).prod(axis=1) * good_dirs) * (y < 233 / 2 * 33))\n",
        "        rows_to_remove += (((X[X.columns[speed_id - 1]] > 7).prod(axis=1) * good_dirs) * (y < 389 / 2 * 33))\n",
        "        rows_to_remove += (((X[X.columns[speed_id - 1]] > 8).prod(axis=1) * good_dirs) * (y < 597 / 2 * 33))\n",
        "        rows_to_remove += (((X[X.columns[speed_id - 1]] > 9).prod(axis=1) * good_dirs) * (y < 862 / 2 * 33))\n",
        "        rows_to_remove += (((X[X.columns[speed_id - 1]] > 10).prod(axis=1) * good_dirs) * (y < 1166 / 2 * 33))\n",
        "        rows_to_remove += (((X[X.columns[speed_id - 1]] > 11).prod(axis=1) * good_dirs) * (y < 1500 / 2 * 33))\n",
        "\n",
        "    # 6. Remove rows with power output deviating by more than 10% from the theoretical value:\n",
        "    speeds = np.arange(24)\n",
        "    powers = np.array([0, 0, 0, 12.3, 36.9, 122.2, 233.0, 389.1, 597.1, 861.8, 1166.0, 1495.4, 1500.2, 1500.2, 1500.2,\n",
        "                       1500.2, 1500.2, 1500.2, 1500.2, 1500.2, 1500.2, 1500.2, 1500.2, 1500.2])\n",
        "    rows_to_remove += (np.abs(y - np.polyval(np.polyfit(speeds, powers * 33, deg=16), X['Speed_100m'])) > 4950*muliplier)\n",
        "\n",
        "    # 7. Check if the power output does not change:\n",
        "    list1 = [y[i:(-10 + i)] for i in range(10)]\n",
        "    rows_to_remove += np.r_[(np.array(list1).std(axis=0) == 0), np.zeros(10, dtype=bool)]\n",
        "\n",
        "    # Convert:\n",
        "    rows_to_keep = rows_to_remove == 0\n",
        "\n",
        "    # Allocate dataframe:\n",
        "    df3 = df1.copy().iloc[:len(y)]\n",
        "\n",
        "    # One-hot encode each month\n",
        "    one_hot_array = np.zeros((len(df3['Date_Time']), 12))\n",
        "    for i in range(len(df3['Date_Time'])):\n",
        "        YYYY, mm, w, dd, HH, MM, SS = (datetime.datetime.strptime(df3['Date_Time'][i], \"%Y-%m-%d %H:%M:%S\").strftime(\n",
        "            \"%Y, %m, %w, %d, %H, %M, %S\")).split(\",\")\n",
        "        one_hot_array[i, [int(mm) - 1]] = 1\n",
        "\n",
        "    # Group attributes\n",
        "    df3 = df3.reindex(columns=list(df1.columns[np.r_[other_id, dir_id, speed_id, temp_id, dens_id]].values))\n",
        "\n",
        "    # Remove timestamps\n",
        "    df3_norm = df3.iloc[:, 1:]\n",
        "\n",
        "    # Append ids:\n",
        "    df3_norm[\"ID\"] = pd.Series(df3_norm.index.values, index=df3_norm.index)\n",
        "\n",
        "    # Append months:\n",
        "    index_list = [f\"Month {x + 1}\" for x in range(12)]\n",
        "    for i in range(len(index_list)):\n",
        "        df3_norm[index_list[i]] = pd.Series(one_hot_array[:, i], index=df3_norm.index)\n",
        "\n",
        "    # Remove all bad rows:\n",
        "    df3_norm = df3_norm[rows_to_keep]\n",
        "\n",
        "    # Normalizations:\n",
        "    df3_norm.iloc[:, 0] = (df3_norm.iloc[:, 0] - df3_norm.iloc[:, 0].mean()) / df3_norm.iloc[:, 0].std()\n",
        "\n",
        "    df3_norm.iloc[:, 1:5] = df3_norm.iloc[:, 1:5] / 180 * np.pi - np.pi\n",
        "\n",
        "    mu = df3_norm.iloc[:, 5:17].mean(axis=0)\n",
        "    std = df3_norm.iloc[:, 5:17].std(axis=0)\n",
        "\n",
        "    df3_norm.iloc[:, 5:17] = (df3_norm.iloc[:, 5:17] - mu) / std\n",
        "\n",
        "    # Normalize ID's to be between 0 and 1:\n",
        "    df3_norm['ID'] = df3_norm['ID'] / df3_norm['ID'].max()\n",
        "\n",
        "    # Remove bad rows:\n",
        "    y = y[rows_to_keep]\n",
        "\n",
        "    # Set a ceiling for power production:\n",
        "    y[y > 49500] = 49500\n",
        "\n",
        "    # Append power production to dataframe:\n",
        "    df3_norm['Park Power [KW]'] = pd.Series(y, index=df3_norm.index)\n",
        "    df3_norm.iloc[:, -1] = df3_norm.iloc[:, -1] / df3_norm.iloc[:, -1].max()\n",
        "\n",
        "    df_final = df3_norm\n"
      ]
    },
    {
      "cell_type": "code",
      "source": [
        "df_final"
      ],
      "metadata": {
        "colab": {
          "base_uri": "https://localhost:8080/",
          "height": 522
        },
        "id": "meEg6H7LfHSW",
        "outputId": "438a27b3-4372-474a-d20d-05edc55df921"
      },
      "execution_count": 9,
      "outputs": [
        {
          "output_type": "execute_result",
          "data": {
            "text/html": [
              "\n",
              "  <div id=\"df-6976e964-4b92-4e36-a88a-dfbce9455749\">\n",
              "    <div class=\"colab-df-container\">\n",
              "      <div>\n",
              "<style scoped>\n",
              "    .dataframe tbody tr th:only-of-type {\n",
              "        vertical-align: middle;\n",
              "    }\n",
              "\n",
              "    .dataframe tbody tr th {\n",
              "        vertical-align: top;\n",
              "    }\n",
              "\n",
              "    .dataframe thead th {\n",
              "        text-align: right;\n",
              "    }\n",
              "</style>\n",
              "<table border=\"1\" class=\"dataframe\">\n",
              "  <thead>\n",
              "    <tr style=\"text-align: right;\">\n",
              "      <th></th>\n",
              "      <th>Pressure_seaLevel</th>\n",
              "      <th>Direction_10m</th>\n",
              "      <th>Direction_50m</th>\n",
              "      <th>Direction_100m</th>\n",
              "      <th>Direction_150m</th>\n",
              "      <th>Speed_10m</th>\n",
              "      <th>Speed_50m</th>\n",
              "      <th>Speed_100m</th>\n",
              "      <th>Speed_150m</th>\n",
              "      <th>Temperature_10m</th>\n",
              "      <th>Temperature_50m</th>\n",
              "      <th>Temperature_100m</th>\n",
              "      <th>Temperature_150m</th>\n",
              "      <th>Air Density_10m</th>\n",
              "      <th>Air Density_50m</th>\n",
              "      <th>Air Density_100m</th>\n",
              "      <th>Air Density_150m</th>\n",
              "      <th>ID</th>\n",
              "      <th>Month 1</th>\n",
              "      <th>Month 2</th>\n",
              "      <th>Month 3</th>\n",
              "      <th>Month 4</th>\n",
              "      <th>Month 5</th>\n",
              "      <th>Month 6</th>\n",
              "      <th>Month 7</th>\n",
              "      <th>Month 8</th>\n",
              "      <th>Month 9</th>\n",
              "      <th>Month 10</th>\n",
              "      <th>Month 11</th>\n",
              "      <th>Month 12</th>\n",
              "      <th>Park Power [KW]</th>\n",
              "    </tr>\n",
              "  </thead>\n",
              "  <tbody>\n",
              "    <tr>\n",
              "      <th>145</th>\n",
              "      <td>1.003116</td>\n",
              "      <td>1.326450</td>\n",
              "      <td>1.308997</td>\n",
              "      <td>1.326450</td>\n",
              "      <td>1.343904</td>\n",
              "      <td>1.656519</td>\n",
              "      <td>1.439223</td>\n",
              "      <td>1.884085</td>\n",
              "      <td>1.911124</td>\n",
              "      <td>-1.629692</td>\n",
              "      <td>-1.629692</td>\n",
              "      <td>-1.629692</td>\n",
              "      <td>-1.629692</td>\n",
              "      <td>1.658333</td>\n",
              "      <td>1.658333</td>\n",
              "      <td>1.658333</td>\n",
              "      <td>1.658333</td>\n",
              "      <td>0.000985</td>\n",
              "      <td>1.0</td>\n",
              "      <td>0.0</td>\n",
              "      <td>0.0</td>\n",
              "      <td>0.0</td>\n",
              "      <td>0.0</td>\n",
              "      <td>0.0</td>\n",
              "      <td>0.0</td>\n",
              "      <td>0.0</td>\n",
              "      <td>0.0</td>\n",
              "      <td>0.0</td>\n",
              "      <td>0.0</td>\n",
              "      <td>0.0</td>\n",
              "      <td>0.804283</td>\n",
              "    </tr>\n",
              "    <tr>\n",
              "      <th>172</th>\n",
              "      <td>0.717099</td>\n",
              "      <td>1.343904</td>\n",
              "      <td>1.326450</td>\n",
              "      <td>1.343904</td>\n",
              "      <td>1.361357</td>\n",
              "      <td>1.354300</td>\n",
              "      <td>1.181990</td>\n",
              "      <td>1.505004</td>\n",
              "      <td>1.537113</td>\n",
              "      <td>-1.343473</td>\n",
              "      <td>-1.343473</td>\n",
              "      <td>-1.343473</td>\n",
              "      <td>-1.343473</td>\n",
              "      <td>1.309500</td>\n",
              "      <td>1.309500</td>\n",
              "      <td>1.309500</td>\n",
              "      <td>1.309500</td>\n",
              "      <td>0.001169</td>\n",
              "      <td>1.0</td>\n",
              "      <td>0.0</td>\n",
              "      <td>0.0</td>\n",
              "      <td>0.0</td>\n",
              "      <td>0.0</td>\n",
              "      <td>0.0</td>\n",
              "      <td>0.0</td>\n",
              "      <td>0.0</td>\n",
              "      <td>0.0</td>\n",
              "      <td>0.0</td>\n",
              "      <td>0.0</td>\n",
              "      <td>0.0</td>\n",
              "      <td>0.699394</td>\n",
              "    </tr>\n",
              "    <tr>\n",
              "      <th>173</th>\n",
              "      <td>0.714675</td>\n",
              "      <td>1.343904</td>\n",
              "      <td>1.326450</td>\n",
              "      <td>1.343904</td>\n",
              "      <td>1.361357</td>\n",
              "      <td>1.360467</td>\n",
              "      <td>1.174845</td>\n",
              "      <td>1.531019</td>\n",
              "      <td>1.568082</td>\n",
              "      <td>-1.350678</td>\n",
              "      <td>-1.350678</td>\n",
              "      <td>-1.350678</td>\n",
              "      <td>-1.350678</td>\n",
              "      <td>1.322420</td>\n",
              "      <td>1.322420</td>\n",
              "      <td>1.322420</td>\n",
              "      <td>1.322420</td>\n",
              "      <td>0.001175</td>\n",
              "      <td>1.0</td>\n",
              "      <td>0.0</td>\n",
              "      <td>0.0</td>\n",
              "      <td>0.0</td>\n",
              "      <td>0.0</td>\n",
              "      <td>0.0</td>\n",
              "      <td>0.0</td>\n",
              "      <td>0.0</td>\n",
              "      <td>0.0</td>\n",
              "      <td>0.0</td>\n",
              "      <td>0.0</td>\n",
              "      <td>0.0</td>\n",
              "      <td>0.801798</td>\n",
              "    </tr>\n",
              "    <tr>\n",
              "      <th>182</th>\n",
              "      <td>0.697708</td>\n",
              "      <td>1.326450</td>\n",
              "      <td>1.308997</td>\n",
              "      <td>1.343904</td>\n",
              "      <td>1.361357</td>\n",
              "      <td>1.428313</td>\n",
              "      <td>1.160554</td>\n",
              "      <td>1.724276</td>\n",
              "      <td>1.756279</td>\n",
              "      <td>-1.414864</td>\n",
              "      <td>-1.414864</td>\n",
              "      <td>-1.414864</td>\n",
              "      <td>-1.414864</td>\n",
              "      <td>1.387019</td>\n",
              "      <td>1.387019</td>\n",
              "      <td>1.387019</td>\n",
              "      <td>1.387019</td>\n",
              "      <td>0.001236</td>\n",
              "      <td>1.0</td>\n",
              "      <td>0.0</td>\n",
              "      <td>0.0</td>\n",
              "      <td>0.0</td>\n",
              "      <td>0.0</td>\n",
              "      <td>0.0</td>\n",
              "      <td>0.0</td>\n",
              "      <td>0.0</td>\n",
              "      <td>0.0</td>\n",
              "      <td>0.0</td>\n",
              "      <td>0.0</td>\n",
              "      <td>0.0</td>\n",
              "      <td>0.772727</td>\n",
              "    </tr>\n",
              "    <tr>\n",
              "      <th>233</th>\n",
              "      <td>0.455320</td>\n",
              "      <td>1.186824</td>\n",
              "      <td>1.134464</td>\n",
              "      <td>1.256637</td>\n",
              "      <td>1.291544</td>\n",
              "      <td>0.793034</td>\n",
              "      <td>0.446019</td>\n",
              "      <td>1.300598</td>\n",
              "      <td>1.482322</td>\n",
              "      <td>-1.581225</td>\n",
              "      <td>-1.581225</td>\n",
              "      <td>-1.581225</td>\n",
              "      <td>-1.581225</td>\n",
              "      <td>1.516216</td>\n",
              "      <td>1.516216</td>\n",
              "      <td>1.516216</td>\n",
              "      <td>1.516216</td>\n",
              "      <td>0.001583</td>\n",
              "      <td>1.0</td>\n",
              "      <td>0.0</td>\n",
              "      <td>0.0</td>\n",
              "      <td>0.0</td>\n",
              "      <td>0.0</td>\n",
              "      <td>0.0</td>\n",
              "      <td>0.0</td>\n",
              "      <td>0.0</td>\n",
              "      <td>0.0</td>\n",
              "      <td>0.0</td>\n",
              "      <td>0.0</td>\n",
              "      <td>0.0</td>\n",
              "      <td>0.598606</td>\n",
              "    </tr>\n",
              "    <tr>\n",
              "      <th>...</th>\n",
              "      <td>...</td>\n",
              "      <td>...</td>\n",
              "      <td>...</td>\n",
              "      <td>...</td>\n",
              "      <td>...</td>\n",
              "      <td>...</td>\n",
              "      <td>...</td>\n",
              "      <td>...</td>\n",
              "      <td>...</td>\n",
              "      <td>...</td>\n",
              "      <td>...</td>\n",
              "      <td>...</td>\n",
              "      <td>...</td>\n",
              "      <td>...</td>\n",
              "      <td>...</td>\n",
              "      <td>...</td>\n",
              "      <td>...</td>\n",
              "      <td>...</td>\n",
              "      <td>...</td>\n",
              "      <td>...</td>\n",
              "      <td>...</td>\n",
              "      <td>...</td>\n",
              "      <td>...</td>\n",
              "      <td>...</td>\n",
              "      <td>...</td>\n",
              "      <td>...</td>\n",
              "      <td>...</td>\n",
              "      <td>...</td>\n",
              "      <td>...</td>\n",
              "      <td>...</td>\n",
              "      <td>...</td>\n",
              "    </tr>\n",
              "    <tr>\n",
              "      <th>147188</th>\n",
              "      <td>0.633475</td>\n",
              "      <td>1.361357</td>\n",
              "      <td>1.099557</td>\n",
              "      <td>1.710423</td>\n",
              "      <td>1.815142</td>\n",
              "      <td>-0.348000</td>\n",
              "      <td>-0.511458</td>\n",
              "      <td>0.189370</td>\n",
              "      <td>0.457960</td>\n",
              "      <td>-0.678029</td>\n",
              "      <td>-0.678029</td>\n",
              "      <td>-0.678029</td>\n",
              "      <td>-0.678029</td>\n",
              "      <td>0.650594</td>\n",
              "      <td>0.650594</td>\n",
              "      <td>0.650594</td>\n",
              "      <td>0.650594</td>\n",
              "      <td>0.999973</td>\n",
              "      <td>0.0</td>\n",
              "      <td>0.0</td>\n",
              "      <td>1.0</td>\n",
              "      <td>0.0</td>\n",
              "      <td>0.0</td>\n",
              "      <td>0.0</td>\n",
              "      <td>0.0</td>\n",
              "      <td>0.0</td>\n",
              "      <td>0.0</td>\n",
              "      <td>0.0</td>\n",
              "      <td>0.0</td>\n",
              "      <td>0.0</td>\n",
              "      <td>0.061616</td>\n",
              "    </tr>\n",
              "    <tr>\n",
              "      <th>147189</th>\n",
              "      <td>0.632263</td>\n",
              "      <td>1.361357</td>\n",
              "      <td>1.099557</td>\n",
              "      <td>1.710423</td>\n",
              "      <td>1.797689</td>\n",
              "      <td>-0.360336</td>\n",
              "      <td>-0.532894</td>\n",
              "      <td>0.193086</td>\n",
              "      <td>0.467489</td>\n",
              "      <td>-0.682614</td>\n",
              "      <td>-0.682614</td>\n",
              "      <td>-0.682614</td>\n",
              "      <td>-0.682614</td>\n",
              "      <td>0.650594</td>\n",
              "      <td>0.650594</td>\n",
              "      <td>0.650594</td>\n",
              "      <td>0.650594</td>\n",
              "      <td>0.999980</td>\n",
              "      <td>0.0</td>\n",
              "      <td>0.0</td>\n",
              "      <td>1.0</td>\n",
              "      <td>0.0</td>\n",
              "      <td>0.0</td>\n",
              "      <td>0.0</td>\n",
              "      <td>0.0</td>\n",
              "      <td>0.0</td>\n",
              "      <td>0.0</td>\n",
              "      <td>0.0</td>\n",
              "      <td>0.0</td>\n",
              "      <td>0.0</td>\n",
              "      <td>0.063232</td>\n",
              "    </tr>\n",
              "    <tr>\n",
              "      <th>147190</th>\n",
              "      <td>0.631051</td>\n",
              "      <td>1.361357</td>\n",
              "      <td>1.117011</td>\n",
              "      <td>1.710423</td>\n",
              "      <td>1.797689</td>\n",
              "      <td>-0.372671</td>\n",
              "      <td>-0.554330</td>\n",
              "      <td>0.196803</td>\n",
              "      <td>0.474636</td>\n",
              "      <td>-0.686544</td>\n",
              "      <td>-0.686544</td>\n",
              "      <td>-0.686544</td>\n",
              "      <td>-0.686544</td>\n",
              "      <td>0.650594</td>\n",
              "      <td>0.650594</td>\n",
              "      <td>0.650594</td>\n",
              "      <td>0.650594</td>\n",
              "      <td>0.999986</td>\n",
              "      <td>0.0</td>\n",
              "      <td>0.0</td>\n",
              "      <td>1.0</td>\n",
              "      <td>0.0</td>\n",
              "      <td>0.0</td>\n",
              "      <td>0.0</td>\n",
              "      <td>0.0</td>\n",
              "      <td>0.0</td>\n",
              "      <td>0.0</td>\n",
              "      <td>0.0</td>\n",
              "      <td>0.0</td>\n",
              "      <td>0.0</td>\n",
              "      <td>0.068384</td>\n",
              "    </tr>\n",
              "    <tr>\n",
              "      <th>147191</th>\n",
              "      <td>0.629839</td>\n",
              "      <td>1.361357</td>\n",
              "      <td>1.117011</td>\n",
              "      <td>1.692969</td>\n",
              "      <td>1.780236</td>\n",
              "      <td>-0.378839</td>\n",
              "      <td>-0.561476</td>\n",
              "      <td>0.200519</td>\n",
              "      <td>0.486547</td>\n",
              "      <td>-0.689819</td>\n",
              "      <td>-0.689819</td>\n",
              "      <td>-0.689819</td>\n",
              "      <td>-0.689819</td>\n",
              "      <td>0.663513</td>\n",
              "      <td>0.663513</td>\n",
              "      <td>0.663513</td>\n",
              "      <td>0.663513</td>\n",
              "      <td>0.999993</td>\n",
              "      <td>0.0</td>\n",
              "      <td>0.0</td>\n",
              "      <td>1.0</td>\n",
              "      <td>0.0</td>\n",
              "      <td>0.0</td>\n",
              "      <td>0.0</td>\n",
              "      <td>0.0</td>\n",
              "      <td>0.0</td>\n",
              "      <td>0.0</td>\n",
              "      <td>0.0</td>\n",
              "      <td>0.0</td>\n",
              "      <td>0.0</td>\n",
              "      <td>0.060687</td>\n",
              "    </tr>\n",
              "    <tr>\n",
              "      <th>147192</th>\n",
              "      <td>0.629839</td>\n",
              "      <td>1.361357</td>\n",
              "      <td>1.117011</td>\n",
              "      <td>1.675516</td>\n",
              "      <td>1.762783</td>\n",
              "      <td>-0.378839</td>\n",
              "      <td>-0.568621</td>\n",
              "      <td>0.207952</td>\n",
              "      <td>0.496076</td>\n",
              "      <td>-0.691784</td>\n",
              "      <td>-0.691784</td>\n",
              "      <td>-0.691784</td>\n",
              "      <td>-0.691784</td>\n",
              "      <td>0.663513</td>\n",
              "      <td>0.663513</td>\n",
              "      <td>0.663513</td>\n",
              "      <td>0.663513</td>\n",
              "      <td>1.000000</td>\n",
              "      <td>0.0</td>\n",
              "      <td>0.0</td>\n",
              "      <td>1.0</td>\n",
              "      <td>0.0</td>\n",
              "      <td>0.0</td>\n",
              "      <td>0.0</td>\n",
              "      <td>0.0</td>\n",
              "      <td>0.0</td>\n",
              "      <td>0.0</td>\n",
              "      <td>0.0</td>\n",
              "      <td>0.0</td>\n",
              "      <td>0.0</td>\n",
              "      <td>0.066586</td>\n",
              "    </tr>\n",
              "  </tbody>\n",
              "</table>\n",
              "<p>27858 rows × 31 columns</p>\n",
              "</div>\n",
              "      <button class=\"colab-df-convert\" onclick=\"convertToInteractive('df-6976e964-4b92-4e36-a88a-dfbce9455749')\"\n",
              "              title=\"Convert this dataframe to an interactive table.\"\n",
              "              style=\"display:none;\">\n",
              "        \n",
              "  <svg xmlns=\"http://www.w3.org/2000/svg\" height=\"24px\"viewBox=\"0 0 24 24\"\n",
              "       width=\"24px\">\n",
              "    <path d=\"M0 0h24v24H0V0z\" fill=\"none\"/>\n",
              "    <path d=\"M18.56 5.44l.94 2.06.94-2.06 2.06-.94-2.06-.94-.94-2.06-.94 2.06-2.06.94zm-11 1L8.5 8.5l.94-2.06 2.06-.94-2.06-.94L8.5 2.5l-.94 2.06-2.06.94zm10 10l.94 2.06.94-2.06 2.06-.94-2.06-.94-.94-2.06-.94 2.06-2.06.94z\"/><path d=\"M17.41 7.96l-1.37-1.37c-.4-.4-.92-.59-1.43-.59-.52 0-1.04.2-1.43.59L10.3 9.45l-7.72 7.72c-.78.78-.78 2.05 0 2.83L4 21.41c.39.39.9.59 1.41.59.51 0 1.02-.2 1.41-.59l7.78-7.78 2.81-2.81c.8-.78.8-2.07 0-2.86zM5.41 20L4 18.59l7.72-7.72 1.47 1.35L5.41 20z\"/>\n",
              "  </svg>\n",
              "      </button>\n",
              "      \n",
              "  <style>\n",
              "    .colab-df-container {\n",
              "      display:flex;\n",
              "      flex-wrap:wrap;\n",
              "      gap: 12px;\n",
              "    }\n",
              "\n",
              "    .colab-df-convert {\n",
              "      background-color: #E8F0FE;\n",
              "      border: none;\n",
              "      border-radius: 50%;\n",
              "      cursor: pointer;\n",
              "      display: none;\n",
              "      fill: #1967D2;\n",
              "      height: 32px;\n",
              "      padding: 0 0 0 0;\n",
              "      width: 32px;\n",
              "    }\n",
              "\n",
              "    .colab-df-convert:hover {\n",
              "      background-color: #E2EBFA;\n",
              "      box-shadow: 0px 1px 2px rgba(60, 64, 67, 0.3), 0px 1px 3px 1px rgba(60, 64, 67, 0.15);\n",
              "      fill: #174EA6;\n",
              "    }\n",
              "\n",
              "    [theme=dark] .colab-df-convert {\n",
              "      background-color: #3B4455;\n",
              "      fill: #D2E3FC;\n",
              "    }\n",
              "\n",
              "    [theme=dark] .colab-df-convert:hover {\n",
              "      background-color: #434B5C;\n",
              "      box-shadow: 0px 1px 3px 1px rgba(0, 0, 0, 0.15);\n",
              "      filter: drop-shadow(0px 1px 2px rgba(0, 0, 0, 0.3));\n",
              "      fill: #FFFFFF;\n",
              "    }\n",
              "  </style>\n",
              "\n",
              "      <script>\n",
              "        const buttonEl =\n",
              "          document.querySelector('#df-6976e964-4b92-4e36-a88a-dfbce9455749 button.colab-df-convert');\n",
              "        buttonEl.style.display =\n",
              "          google.colab.kernel.accessAllowed ? 'block' : 'none';\n",
              "\n",
              "        async function convertToInteractive(key) {\n",
              "          const element = document.querySelector('#df-6976e964-4b92-4e36-a88a-dfbce9455749');\n",
              "          const dataTable =\n",
              "            await google.colab.kernel.invokeFunction('convertToInteractive',\n",
              "                                                     [key], {});\n",
              "          if (!dataTable) return;\n",
              "\n",
              "          const docLinkHtml = 'Like what you see? Visit the ' +\n",
              "            '<a target=\"_blank\" href=https://colab.research.google.com/notebooks/data_table.ipynb>data table notebook</a>'\n",
              "            + ' to learn more about interactive tables.';\n",
              "          element.innerHTML = '';\n",
              "          dataTable['output_type'] = 'display_data';\n",
              "          await google.colab.output.renderOutput(dataTable, element);\n",
              "          const docLink = document.createElement('div');\n",
              "          docLink.innerHTML = docLinkHtml;\n",
              "          element.appendChild(docLink);\n",
              "        }\n",
              "      </script>\n",
              "    </div>\n",
              "  </div>\n",
              "  "
            ],
            "text/plain": [
              "        Pressure_seaLevel  Direction_10m  ...  Month 12  Park Power [KW]\n",
              "145              1.003116       1.326450  ...       0.0         0.804283\n",
              "172              0.717099       1.343904  ...       0.0         0.699394\n",
              "173              0.714675       1.343904  ...       0.0         0.801798\n",
              "182              0.697708       1.326450  ...       0.0         0.772727\n",
              "233              0.455320       1.186824  ...       0.0         0.598606\n",
              "...                   ...            ...  ...       ...              ...\n",
              "147188           0.633475       1.361357  ...       0.0         0.061616\n",
              "147189           0.632263       1.361357  ...       0.0         0.063232\n",
              "147190           0.631051       1.361357  ...       0.0         0.068384\n",
              "147191           0.629839       1.361357  ...       0.0         0.060687\n",
              "147192           0.629839       1.361357  ...       0.0         0.066586\n",
              "\n",
              "[27858 rows x 31 columns]"
            ]
          },
          "metadata": {},
          "execution_count": 9
        }
      ]
    },
    {
      "cell_type": "code",
      "execution_count": 10,
      "metadata": {
        "id": "0yz-Bd4NUZ-5"
      },
      "outputs": [],
      "source": [
        "# Preprocess data: (Remove rows corresponding to nan-targets)\n",
        "if 0:\n",
        "    # Create new dataframe and sort\n",
        "    df3 = df1.copy()\n",
        "    df3.iloc[0:df1.shape[0] - 35713] = df1.iloc[35713:].values\n",
        "    df3 = df3.iloc[0:df3.shape[0] - 35713]\n",
        "    # df3 = df3.reindex(columns=list(df1.columns[np.r_[other_id, dir_id, speed_id, temp_id, dens_id]].values))\n",
        "\n",
        "    # One hot encoding: (Month [12], Hour [24])\n",
        "    one_hot_array = np.zeros((len(df3['Date_Time']), (12 + 24)))\n",
        "    # One hot encoding: (Month [12], Quarters [96])\n",
        "    # one_hot_array = np.zeros((len(df3['Date_Time']), (12+96)))\n",
        "\n",
        "    for i in range(len(df3['Date_Time'])):\n",
        "        YYYY, mm, w, dd, HH, MM, SS = (datetime.datetime.strptime(df3['Date_Time'][i], \"%Y-%m-%d %H:%M:%S\").strftime(\n",
        "            \"%Y, %m, %w, %d, %H, %M, %S\")).split(\",\")\n",
        "        date_time_array[i, :] = np.array(\n",
        "            [float(YYYY), float(mm), np.floor(float(mm) // 7 + 1), float(w), float(dd), float(HH) * 4 + float(MM) / 15])\n",
        "        one_hot_array[i, [int(mm) - 1, 12 + int(HH)]] = 1\n",
        "        # one_hot_array[i, [int(mm)-1, 12+int(int(HH)*4 + int(MM)/15)]] = 1\n",
        "\n",
        "    if 0:\n",
        "        # Add datetime data to attributes:\n",
        "        index_list = [\"Year\", \"Month\", \"Week\", \"Weekday\", \"Monthday\", \"Hourly_Quarter\"]\n",
        "        for i in range(len(index_list)):\n",
        "            df3[index_list[i]] = pd.Series(date_time_array[:, i], index=df3.index)\n",
        "    else:\n",
        "        index_list = [f\"Month {x + 1}\" for x in range(12)] + [f\"Hour {x + 1}\" for x in range(24)]\n",
        "        # index_list = [f\"Month {x + 1}\" for x in range(12)] + [f\"Quarter {x + 1}\" for x in range(96)]\n",
        "        for i in range(len(index_list)):\n",
        "            df3[index_list[i]] = pd.Series(one_hot_array[:, i], index=df3.index)\n",
        "    df3[\"ID\"] = pd.Series(df3.index.values, index=df3.index)\n",
        "    df3 = df3.copy()\n",
        "\n",
        "\n",
        "    # Normalization:\n",
        "    def mapRange(value, inMin, inMax, outMin, outMax):\n",
        "        return outMin + (((value - inMin) / (inMax - inMin)) * (outMax - outMin))\n",
        "\n",
        "\n",
        "    # Normalize attributes one by one:\n",
        "    if 0:\n",
        "        df3_norm = df3.copy()\n",
        "        df3_norm.iloc[:, 0] /= 1013.25  # Average sea pressure [mbar]\n",
        "        df3_norm.iloc[:, 1:5] /= 360  # Conversion [deg -> [0,1]-interval]\n",
        "        df3_norm.iloc[:, 5:9] /= 12  # Divide by lowest speed that achieves 100% power output\n",
        "        df3_norm.iloc[:, 13:17] /= 1.225  # Average air density [kg/m^3]\n",
        "        df3_norm.iloc[:, 17] -= 2016  # Subtract starting year [yr]\n",
        "        df3_norm.iloc[:, 9:13] = (df3_norm.iloc[:, 9:13] - np.mean(df3_norm.iloc[:, 9:13])) / np.std(\n",
        "            df3_norm.iloc[:, 9:13])  # Standardized Normalization of Temperature\n",
        "    else:\n",
        "        df3_norm = df3.iloc[:, 1:].copy()\n",
        "        df3_norm /= np.max(df3, axis=0)\n",
        "\n",
        "    # Add Park Power Output to dataframe:\n",
        "    PP = df2['Park Power [KW]']\n",
        "    df3_norm['Park Power [KW]'] = pd.Series(PP.iloc[0:df1.shape[0]] / np.max(PP), index=df3.index)\n",
        "\n",
        "    # Remove rows with no target values:\n",
        "    df_final = df3_norm[~df3_norm.iloc[:, -1].isnull()]\n"
      ]
    },
    {
      "cell_type": "markdown",
      "metadata": {
        "id": "WKN9ePe81b0L"
      },
      "source": [
        "### Data functions"
      ]
    },
    {
      "cell_type": "code",
      "execution_count": 11,
      "metadata": {
        "id": "qerGdTka1fmG"
      },
      "outputs": [],
      "source": [
        "def split_data(data_frame):\n",
        "  \" Takes dataframe and splits into train-, validation- and test set\"\n",
        "  \n",
        "  df = data_frame\n",
        "\n",
        "  # Observations:\n",
        "  num_obs = df.shape[0]\n",
        "\n",
        "  # Train-, validation-, and testing set:\n",
        "  train_valid_split, valid_test_split = np.round(num_obs * np.array([0.7, 0.9]), -2).astype(int)\n",
        "\n",
        "  train_data = df.iloc[:train_valid_split, :]\n",
        "  valid_data = df.iloc[train_valid_split:valid_test_split, :]\n",
        "  test_data  = df.iloc[valid_test_split:, :]\n",
        "\n",
        "  return train_data, valid_data, test_data\n",
        "\n",
        "\n",
        "def attributes_n_targets(data_set, num_prev_obs = 1):\n",
        "\n",
        "  # Pre-allocate attributes and targets:\n",
        "  x = np.zeros((data_set.shape[0] - (num_prev_obs-1), data_set.shape[1]*num_prev_obs - 1))\n",
        "  y = np.zeros((x.shape[0], 1))\n",
        "\n",
        "  # Fill in attributes and targets:\n",
        "  for i in range(data_set.shape[0] - num_prev_obs):\n",
        "    arr = data_set.iloc[i:i+num_prev_obs, :].to_numpy().reshape(-1)\n",
        "    x[i, :] = arr[:-1]\n",
        "    y[i, :] = arr[-1]\n",
        "  \n",
        "  return x, y\n",
        "\n",
        "\n",
        "def num_inputs(data_set, num_prev_obs = 1):\n",
        "  return data_set.shape[1] * num_prev_obs - 1\n",
        "\n",
        "train_data, valid_data, test_data = split_data(df_final)"
      ]
    },
    {
      "cell_type": "markdown",
      "metadata": {
        "id": "8FHHpLHxhQun"
      },
      "source": [
        "## PCA - requires first sorting method"
      ]
    },
    {
      "cell_type": "markdown",
      "metadata": {
        "id": "ob5Gx82uwjV-"
      },
      "source": [
        "### 2x PCA components, "
      ]
    },
    {
      "cell_type": "code",
      "execution_count": 12,
      "metadata": {
        "id": "jSov_e_ThUC7"
      },
      "outputs": [],
      "source": [
        "import pandas as pd \n",
        "import numpy as np\n",
        "import matplotlib.pyplot as plt\n",
        "from sklearn.decomposition import PCA\n",
        "from sklearn.preprocessing import StandardScaler"
      ]
    },
    {
      "cell_type": "code",
      "execution_count": 13,
      "metadata": {
        "id": "g8q9yA0NhiwV"
      },
      "outputs": [],
      "source": [
        "if 0:\n",
        "  # Similar setup to make following easy\n",
        "  x = df3.copy()\n",
        "  # Add Park Power Output to dataframe: # kept the same way\n",
        "  PP = df2['Park Power [KW]'] / (33*1500)\n",
        "  x['Park Power'] = pd.Series(PP, index=x.index)\n",
        "\n",
        "  # Remove rows with no target values:\n",
        "  df = x[~x.iloc[:, -1].isnull()] # is all together\n",
        "  df = x\n",
        "  y = df.iloc[:,-1]\n",
        "  x = df.iloc[:,0:17]\n",
        "  print(df.iloc[0:10,0:18])\n",
        "\n",
        "  # make x to mu=0, sigma=1\n",
        "  x = StandardScaler().fit_transform(x)\n",
        "  pd.DataFrame(data = x, ).head()\n",
        "\n",
        "  pca = PCA(n_components=2)\n",
        "\n",
        "  principalComponents = pca.fit_transform(x)\n",
        "\n",
        "  principalDf = pd.DataFrame(data = principalComponents\n",
        "              , columns = ['principal component 1', 'principal component 2'])\n",
        "\n",
        "  #principalDf.head(5)\n",
        "  finalDf = pd.concat([principalDf, df['Park Power']], axis = 1)\n",
        "  finalDf = finalDf[~y.iloc[:].isnull()]\n",
        "  finalDf.head(12)\n",
        "\n",
        "  print(pca.explained_variance_ratio_)\n",
        "\n",
        "  targetsLow = [0, 0.1 , 0.5 , 0.8]\n",
        "  targetsHigh = [0.1, 0.5 , 0.8 , 1]\n",
        "  colors = ['r', 'g', 'b' , 'y']\n",
        "  for targetL,targetH, color in zip(targetsLow,targetsHigh,colors):\n",
        "    fig = plt.figure(figsize = (8,8))\n",
        "    ax = fig.add_subplot(1,1,1) \n",
        "    ax.set_xlabel('Principal Component 1', fontsize = 15)\n",
        "    ax.set_ylabel('Principal Component 2', fontsize = 15)\n",
        "    ax.set_title('2 Component PCA', fontsize = 20)\n",
        "    indicesToKeep = (finalDf['Park Power'] <= targetL)&(finalDf['Park Power'] <= targetH)\n",
        "    ax.scatter(finalDf.loc[indicesToKeep, 'principal component 1']\n",
        "                , finalDf.loc[indicesToKeep, 'principal component 2']\n",
        "                , c = color\n",
        "                , s = 50\n",
        "                ,alpha = 0.01)\n",
        "    ax.legend([str(targetL)+\" - \"+str(targetH)])\n",
        "    ax.grid()"
      ]
    },
    {
      "cell_type": "markdown",
      "metadata": {
        "id": "XqEAJ-O9wajA"
      },
      "source": [
        "### 3x PCA components"
      ]
    },
    {
      "cell_type": "code",
      "execution_count": 14,
      "metadata": {
        "id": "5vPTG7EHv1Ni"
      },
      "outputs": [],
      "source": [
        "if 0:\n",
        "  pca3 = PCA(n_components=3)\n",
        "  principalComponents = pca3.fit_transform(x)\n",
        "\n",
        "  principalDf = pd.DataFrame(data = principalComponents, columns = ['principal component 1', 'principal component 2', 'principal component 3'])\n",
        "\n",
        "  finalDf = pd.concat([principalDf, df[['Park Power']]], axis = 1)\n",
        "  finalDf = finalDf[~y.iloc[:].isnull()]\n",
        "  finalDf.head()\n",
        "\n",
        "  pca3.explained_variance_ratio_\n",
        "\n",
        "  from mpl_toolkits.mplot3d import Axes3D\n",
        "\n",
        "\n",
        "  # axes.scatter(finalDf['principal component 1'],finalDf['principal component 2'],finalDf['principal component 3'],c=finalDf['Park Power'], cmap = 'prism', s=10)\n",
        "\n",
        "  for targetL,targetH, color in zip(targetsLow,targetsHigh,colors):\n",
        "    fig = plt.figure(figsize=(9,9))\n",
        "    axes = Axes3D(fig)\n",
        "    axes.set_title('PCA Representation', size=14)\n",
        "    axes.set_xlabel('PC1')\n",
        "    axes.set_ylabel('PC2')\n",
        "    axes.set_zlabel('PC3')\n",
        "    indicesToKeep = (finalDf['Park Power'] <= targetL)&(finalDf['Park Power'] <= targetH)\n",
        "    ax.scatter(finalDf.loc[indicesToKeep, 'principal component 1']\n",
        "                , finalDf.loc[indicesToKeep, 'principal component 2']\n",
        "                ,finalDf.loc[indicesToKeep, 'principal component 3']\n",
        "                , c = color)\n",
        "    ax.legend([str(targetL)+\" - \"+str(targetH)])\n",
        "    ax.grid()"
      ]
    },
    {
      "cell_type": "markdown",
      "metadata": {
        "id": "UrOi7sEyzlMu"
      },
      "source": [
        "### Standard and reg-fit"
      ]
    },
    {
      "cell_type": "code",
      "execution_count": 15,
      "metadata": {
        "id": "MQTU5OLM0G6w"
      },
      "outputs": [],
      "source": [
        "if 0:\n",
        "  from sklearn.decomposition import PCA\n",
        "  from sklearn.preprocessing import StandardScaler\n",
        "  from sklearn.model_selection import train_test_split\n",
        "  import pandas as pd\n",
        "  from sklearn.linear_model import LogisticRegression # is classifier\n",
        "  from sklearn.linear_model import SGDRegressor # is classical regres\n",
        "  from sklearn.metrics import accuracy_score\n",
        "  from sklearn.metrics import mean_squared_error\n",
        "  import matplotlib.pyplot as plt\n",
        "  import warnings\n",
        "  warnings.filterwarnings('ignore')\n",
        "\n",
        "  X = x[~y.iloc[:].isnull()]  # is just called different\n",
        "  Y = y[~y.iloc[:].isnull()]\n",
        "\n",
        "  X_train, X_test, Y_train, Y_test = train_test_split(X,Y, test_size=0.3,random_state=0)\n",
        "\n",
        "  scaler = StandardScaler()\n",
        "\n",
        "  # Fit on training set only.\n",
        "  scaler.fit(X_train)\n",
        "\n",
        "  # Apply transform to both the training set and the test set.\n",
        "  X_train_pca = scaler.transform(X_train)\n",
        "  X_test_pca = scaler.transform(X_test)\n",
        "\n",
        "  #%%time\n",
        "\n",
        "  logisticRegr = SGDRegressor()\n",
        "  logisticRegr.fit(X_train,Y_train)\n",
        "\n",
        "  Y_train_hat =logisticRegr.predict(X_train)\n",
        "  train_accuracy = mean_squared_error(Y_train, Y_train_hat)\n",
        "  print('\"MSE for our Training dataset with PCA is: %.4f' % train_accuracy)\n",
        "  Y_test_hat=logisticRegr.predict(X_test)\n",
        "  test_accuracy=mean_squared_error(Y_test,Y_test_hat)\n",
        "  test_accuracy\n",
        "  print(\"MSE for our Testing dataset with tuning is : {:.3f}\".format(test_accuracy) )\n",
        "\n",
        "  #PCA FIT\n",
        "  logisticRegr.fit(X_train_pca,Y_train)\n",
        "\n",
        "  Y_train_hat =logisticRegr.predict(X_train_pca)\n",
        "  train_accuracy = mean_squared_error(Y_train, Y_train_hat)\n",
        "  print('\"MSE for our Training dataset with PCA is: %.4f ' % train_accuracy)\n",
        "  Y_test_hat=logisticRegr.predict(X_test_pca)\n",
        "  test_accuracy=mean_squared_error(Y_test,Y_test_hat)\n",
        "  test_accuracy\n",
        "  print(\"MSE for our Testing dataset with PCA is : {:.3f}\".format(test_accuracy) )\n"
      ]
    },
    {
      "cell_type": "markdown",
      "metadata": {
        "id": "uYjFfddiLhHl"
      },
      "source": [
        "## Setup of Network"
      ]
    },
    {
      "cell_type": "markdown",
      "metadata": {
        "id": "sb33oXOguZ86"
      },
      "source": [
        "### Networks"
      ]
    },
    {
      "cell_type": "markdown",
      "metadata": {
        "id": "MSSEMAoqu-p5"
      },
      "source": [
        "##### Static metod + data gen"
      ]
    },
    {
      "cell_type": "code",
      "execution_count": 16,
      "metadata": {
        "id": "6J-mT_gV6zpV"
      },
      "outputs": [],
      "source": [
        "# Input RNN(N: batch_size, L: sequence length, H_in: feature_vector)\n",
        "#num_batches_train"
      ]
    },
    {
      "cell_type": "code",
      "execution_count": 17,
      "metadata": {
        "id": "tcXj9TsOAHBv"
      },
      "outputs": [],
      "source": [
        "#train_data, valid_data, test_data = split_data(df_final) # is done above\n",
        "#print(train_data.iloc[0:5])"
      ]
    },
    {
      "cell_type": "code",
      "execution_count": 18,
      "metadata": {
        "id": "qRPdf5ZcANtF"
      },
      "outputs": [],
      "source": [
        "#train_data.iloc[0:5,0:17] # for vizu"
      ]
    },
    {
      "cell_type": "code",
      "execution_count": 19,
      "metadata": {
        "id": "yJL_DGIsfFg3"
      },
      "outputs": [],
      "source": [
        "# Rolling window data, \n",
        "def time_series_windows(data_set, seq_length=96, num_targets=1):\n",
        "    h, w = data_set.shape\n",
        "\n",
        "    # Pre-allocate attributes and targets:\n",
        "    x = np.zeros((h - seq_length, seq_length, w - num_targets))\n",
        "    y = np.zeros((h - seq_length, num_targets))\n",
        "\n",
        "    for i in range(h - seq_length):\n",
        "        x[i] = (data_set.iloc[i:i + seq_length, :-1])\n",
        "        y[i] = (data_set.iloc[i + seq_length-1, -1]) # y[i] = (data_set.iloc[i + seq_length-1, -1])\n",
        "\n",
        "    return x, y"
      ]
    },
    {
      "cell_type": "code",
      "execution_count": 20,
      "metadata": {
        "id": "P7JaYo_2CUh8"
      },
      "outputs": [],
      "source": [
        "## CONVERT TO TORCH, +SET seq_length\n",
        "import torch\n",
        "seq_lenght = 96\n",
        "#rolling window method\n",
        "x1 , y1 = time_series_windows(train_data.iloc[:,:] , seq_length=seq_lenght , num_targets=1)\n",
        "#print(y1[0:20])\n",
        "x_train = (torch.from_numpy(x1)).to(torch.float32)\n",
        "y_train = (torch.from_numpy(y1)).to(torch.float32)\n",
        "#print(y_train[0:20])\n",
        "\n",
        "\n",
        "x1 , y1 = time_series_windows(valid_data.iloc[:,:] , seq_length=seq_lenght , num_targets=1)\n",
        "x_valid = (torch.from_numpy(x1)).to(torch.float32)\n",
        "y_valid = (torch.from_numpy(y1)).to(torch.float32)\n",
        "\n",
        "\n",
        "x1 , y1 = time_series_windows(test_data.iloc[:,:] , seq_length=seq_lenght , num_targets=1)\n",
        "x_test = (torch.from_numpy(x1)).to(torch.float32)\n",
        "y_test = (torch.from_numpy(y1)).to(torch.float32)\n"
      ]
    },
    {
      "cell_type": "code",
      "execution_count": 21,
      "metadata": {
        "id": "IeLgT3dmU255"
      },
      "outputs": [],
      "source": [
        "\n",
        "SAVE = 0\n",
        "if SAVE:\n",
        "  path = \"/content/drive/MyDrive/Colab Notebooks/22 - Project\"\n",
        "  torch.save(x_train, path+\"/Data/\"+\"x_train\"+str(muliplier)+\".pt\")\n",
        "  torch.save(y_train, path+\"/Data/\"+\"y_train\"+str(muliplier)+\".pt\")\n",
        "  torch.save(x_valid, path+\"/Data/\"+\"x_valid\"+str(muliplier)+\".pt\")\n",
        "  torch.save(y_valid, path+\"/Data/\"+\"y_valid\"+str(muliplier)+\".pt\")\n",
        "  torch.save(x_test, path+\"/Data/\"+\"x_test\"+str(muliplier)+\".pt\")\n",
        "  torch.save(y_test, path+\"/Data/\"+\"y_test\"+str(muliplier)+\".pt\")"
      ]
    },
    {
      "cell_type": "markdown",
      "metadata": {
        "id": "ulb2O3rWmLPE"
      },
      "source": [
        "##### Simple LSTM - takes all"
      ]
    },
    {
      "cell_type": "code",
      "execution_count": 22,
      "metadata": {
        "id": "--pck9sjurzC"
      },
      "outputs": [],
      "source": [
        "if 0:\n",
        "  # Imports, V2\n",
        "  import torch\n",
        "  import torch.nn as nn\n",
        "  import torch.optim as optim\n",
        "  import torch.nn.functional as F\n",
        "  from torch.autograd import Variable # or perhaps costum one?\n",
        "\n",
        "  TCIA = torch.cuda.is_available()\n",
        "  if TCIA:\n",
        "    device = torch.device(\"cuda\")\n",
        "  else:\n",
        "    device = torch.device(\"cpu\")\n",
        "\n",
        "  class LSTM(nn.Module):\n",
        "\n",
        "      def __init__(self, num_classes, input_size, hidden_size, num_layers):\n",
        "          super(LSTM, self).__init__()\n",
        "          num_classes = 1\n",
        "          input_size = 4\n",
        "          hidden_size = 15\n",
        "          num_layers = 1\n",
        "          self.num_classes = num_classes\n",
        "          self.num_layers = num_layers\n",
        "          self.input_size = input_size\n",
        "          self.hidden_size = hidden_size\n",
        "          # self.seq_length = seq_length # not used, instead input_size\n",
        "        \n",
        "          self.lstm = nn.LSTM(input_size=input_size, hidden_size=hidden_size,\n",
        "                              num_layers=num_layers, batch_first=True, dropout=0.5) # dropout for more than 1 layer\n",
        "          self.sigmoid = nn.Sigmoid()\n",
        "          self.fc = nn.Linear(hidden_size*num_layers, num_classes)\n",
        "          self.dropout = nn.Dropout(p=0.5)\n",
        "  \n",
        "      def forward(self, x):\n",
        "          x = x[:,:,5:9]\n",
        "          h_0 = Variable(torch.zeros(\n",
        "              self.num_layers, x.size(0), self.hidden_size)).to(device)\n",
        "        \n",
        "          c_0 = Variable(torch.zeros(\n",
        "              self.num_layers, x.size(0), self.hidden_size)).to(device)\n",
        "        \n",
        "          # Propagate input through LSTM\n",
        "          ula, (h_out , _) = self.lstm(x, (h_0, c_0)) # OG in\n",
        "          #ula, (h_out , _) = self.lstm(x) # try this\n",
        "          #print(h_out.shape)\n",
        "          h_out=self.dropout(h_out)\n",
        "        \n",
        "          h_out = h_out.view(-1, self.hidden_size*self.num_layers)\n",
        "        \n",
        "          out = self.fc(h_out)\n",
        "          #out=self.sigmoid(out) # squezses output alot, trying without\n",
        "        \n",
        "          return out\n",
        "\n",
        "  hidden_size = 30 # Tomas , 20-40\n",
        "  num_layers = 1 # suggest 1\n",
        "  net = LSTM(num_classes= 1, input_size= 17, hidden_size=hidden_size, num_layers=num_layers)\n",
        "  if TCIA:\n",
        "    net.to(device)\n",
        "  print(net)\n",
        "\n",
        "  # Optimizer and criterion:\n",
        "  optimizer = optim.SGD(net.parameters(), lr=0.01 ,weight_decay=0.01)\n",
        "  #optimizer = optim.Adam(net.parameters(), lr=1e-3,weight_decay=0.1) # Adam seems to default to a mean\n",
        "  criterion = nn.MSELoss()# reduction='none') # did not work\n",
        "  #criterion = nn.L1loss(reduce=False)\n",
        "\n",
        "  batch_size = 508\n",
        "\n",
        "  savepath = \"/RNN/premade/batch\"+str(batch_size)+\"_hid\"+str(hidden_size)+\"_lay\"+str(num_layers)+\"_SDG_lr0.01_wd0.01_newnorm_seq\"+str(seq_lenght)+\".pt\""
      ]
    },
    {
      "cell_type": "markdown",
      "metadata": {
        "id": "7qbVu2prmPIz"
      },
      "source": [
        "##### Deep net, LSTM only takes speed"
      ]
    },
    {
      "cell_type": "code",
      "execution_count": 23,
      "metadata": {
        "colab": {
          "base_uri": "https://localhost:8080/"
        },
        "id": "SylxZfLiRLip",
        "outputId": "03886b29-9ffa-4c80-e2b1-b678fa27bff6"
      },
      "outputs": [
        {
          "output_type": "stream",
          "name": "stderr",
          "text": [
            "/usr/local/lib/python3.7/dist-packages/torch/nn/modules/rnn.py:65: UserWarning: dropout option adds dropout after all but last recurrent layer, so non-zero dropout expects num_layers greater than 1, but got dropout=0.5 and num_layers=1\n",
            "  \"num_layers={}\".format(dropout, num_layers))\n"
          ]
        },
        {
          "output_type": "stream",
          "name": "stdout",
          "text": [
            "Net(\n",
            "  (lstm): LSTM(4, 30, batch_first=True, dropout=0.5)\n",
            "  (fc_wind): Linear(in_features=30, out_features=10, bias=True)\n",
            "  (dropout): Dropout(p=0.5, inplace=False)\n",
            "  (relu): ReLU()\n",
            "  (con_dir): Conv1d(5, 14, kernel_size=(6,), stride=(4,))\n",
            "  (pool): AvgPool1d(kernel_size=(3,), stride=(3,), padding=(0,))\n",
            "  (con_dir2): Conv1d(14, 7, kernel_size=(3,), stride=(1,))\n",
            "  (con_TeDe): Conv1d(8, 20, kernel_size=(6,), stride=(4,))\n",
            "  (con_TeDe2): Conv1d(20, 7, kernel_size=(3,), stride=(1,))\n",
            "  (fc_dir): Linear(in_features=7, out_features=5, bias=True)\n",
            "  (fc_temp): Linear(in_features=7, out_features=8, bias=True)\n",
            "  (fc): Linear(in_features=35, out_features=1, bias=True)\n",
            ")\n"
          ]
        }
      ],
      "source": [
        "if 1:\n",
        "  from torch.nn.modules import dropout\n",
        "  from operator import concat\n",
        "  # Big Net\n",
        "  import torch\n",
        "  import torch.nn as nn\n",
        "  import torch.optim as optim\n",
        "  import torch.nn.functional as F\n",
        "  from torch.autograd import Variable # or perhaps costum one?\n",
        "  import numpy as np # redundancy for quickload\n",
        "\n",
        "  TCIA = torch.cuda.is_available()\n",
        "  if TCIA:\n",
        "    device = torch.device(\"cuda\")\n",
        "  else:\n",
        "    device = torch.device(\"cpu\")\n",
        "  # Data is: 0:Pressure_seaLevel\t1:Direction_10m\t2:Direction_50m\t3:Direction_100m\t4:Direction_150m\t5:Speed_10m\t6:Speed_50m\t7:Speed_100m\t8:Speed_150m\t9:Temperature_10m\t10:Temperature_50m\t11:Temperature_100m\t12:Temperature_150m\t13:Air Density_10m\t14:Air Density_50m\t15:Air Density_100m\tAir 16:Density_150m\t17:PP\n",
        "  class Net(nn.Module):\n",
        "\n",
        "      def __init__(self, hidden_size, num_layers):\n",
        "          super(Net, self).__init__()\n",
        "          num_classes = 1\n",
        "          input_size = 4 # of each group\n",
        "          \n",
        "\n",
        "          ## FOR LSTM\n",
        "          #hidden_size = 30\n",
        "          #num_layers = 1\n",
        "          self.num_classes = num_classes\n",
        "          self.num_layers = num_layers\n",
        "          self.input_size = input_size\n",
        "          self.hidden_size = hidden_size\n",
        "          # self.seq_length = seq_length # not used, instead input_size\n",
        "        \n",
        "          self.lstm = nn.LSTM(input_size=input_size, hidden_size=hidden_size,\n",
        "                              num_layers=num_layers, batch_first=True, dropout=0.5) # dropout for more than 1 layer\n",
        "\n",
        "          self.fc_wind = nn.Linear(hidden_size*num_layers, 10) # some out\n",
        "\n",
        "          #self.sigmoid = nn.Sigmoid() # Capital is element-wise, squzzes a lot\n",
        "          self.dropout = nn.Dropout(p=0.5) # Applied after denselayers\n",
        "          self.relu = nn.ReLU()\n",
        "          \n",
        "        \n",
        "          ## FOR CONV1D\n",
        "          self.con_dir = nn.Conv1d(in_channels=5, out_channels=14, kernel_size=6, stride=4)# OUT(Batch,14,23) # takes: N is a batch size, C denotes a number of channels, L is a length of signal sequence.\n",
        "          self.pool = nn.AvgPool1d(kernel_size=3,stride=3) # OUT(Batch,14,7) #after conv layers -> from \n",
        "          self.con_dir2 = nn.Conv1d(in_channels=14, out_channels=7, kernel_size=3, stride=1) # OUT(Batch,7,5) -> pool yields Batch,7,1\n",
        "\n",
        "          self.con_TeDe = nn.Conv1d(in_channels=8, out_channels=20, kernel_size=6, stride=4)# OUT(Batch,20,23) # takes: N is a batch size, C denotes a number of channels, L is a length of signal sequence.\n",
        "          self.con_TeDe2 = nn.Conv1d(in_channels=20, out_channels=7, kernel_size=3, stride=1) # OUT(Batch,7,5) -> pool yields Batch,7,1\n",
        "\n",
        "          self.fc_dir = nn.Linear(in_features=7*1, out_features=5) # out here is pretty random\n",
        "          self.fc_temp = nn.Linear(in_features=7*1, out_features=8) # out here is pretty random\n",
        "          ## CONNECT ALL\n",
        "          self.fc = nn.Linear(10 + 4*3 +1 + 12 , num_classes) # speed +4*sets+\n",
        "        \n",
        "          \n",
        "\n",
        "          \n",
        "  \n",
        "      def forward(self, x): # TAKES ALL OF X, see index naming for understanding\n",
        "          # FOR LSTM\n",
        "          z = x[:,:,5:9] # 50-150m\n",
        "          #z = x[:,:,6:8] # Only 50 and 100m, set input_size=2\n",
        "          h_0 = Variable(torch.zeros(\n",
        "             self.num_layers, z.size(0), self.hidden_size)).to(device)\n",
        "          c_0 = Variable(torch.zeros(\n",
        "              self.num_layers, z.size(0), self.hidden_size)).to(device)       \n",
        "          # Propagate SPEEDS through LSTM\n",
        "          ula, (h_out , _) = self.lstm(z, (h_0, c_0)) # ONLY WIND SPEEDS\n",
        "          #ula, (h_out , _) = self.lstm(z) # try this for printing\n",
        "          #print(h_out.shape)\n",
        "          h_out=self.dropout(h_out)      \n",
        "          h_out = h_out.view(-1, self.hidden_size*self.num_layers)\n",
        "          x_wind = self.dropout(self.fc_wind(h_out))\n",
        "          #print('out_wind: ', z.shape)\n",
        "\n",
        "\n",
        "          # FOR CONV1d # DIRECTION + PRESSURE\n",
        "          z = x[:,:,0:5].permute(0,2,1)\n",
        "          z = self.pool( self.relu( self.con_dir(z) ) ) # con-relu-pool-dense-drop\n",
        "          z = self.pool( self.relu( self.con_dir2(z) ) )\n",
        "          x_dir = self.dropout(self.fc_dir(z.view(-1,self.fc_dir.in_features)))\n",
        "          #print('out_dir: ', x_dir.shape)\n",
        "\n",
        "          # FOR CONV1d # TEMP and density\n",
        "          #z = x[:,:,9:13].permute(0,2,1)\n",
        "          z = x[:,:,9:17].permute(0,2,1) \n",
        "          z = self.pool( self.relu( self.con_TeDe(z) ) ) # con-relu-pool-dense-drop\n",
        "          z = self.pool( self.relu( self.con_TeDe2(z) ) )\n",
        "          x_temp = self.dropout(self.fc_temp(z.view(-1,self.fc_temp.in_features)))\n",
        "          #print('out_temp ', x_temp.shape)\n",
        "\n",
        "          x_months = x[:,-1, 18:30 ] # of final seq\n",
        "\n",
        "\n",
        "        #x = torch.cat([x_wind,x_dir,x_temp,x_dense] , 1)\n",
        "          x = torch.cat([x_wind , x_dir , x_temp , x_months] , 1) # adding months\n",
        "          x = torch.sigmoid(x)\n",
        "          # out = self.dropout( self.fc(x) ) # avoid drop right before out\n",
        "          out = self.fc(x)\n",
        "          \n",
        "\n",
        "          #out=torch.sigmoid(out) #does it before the final layer for a possibility of 0 and 1\n",
        "        \n",
        "          return out\n",
        "  #m = nn.Conv1d(16, 33, 3, stride=2)\n",
        "  #input = torch.randn(20, 16, 50)\n",
        "  #output = m(input)\n",
        "\n",
        "  hidden_size = 30 # Tomas , 20-40\n",
        "  num_layers = 1 # suggest 1\n",
        "  seq_lenght = 96\n",
        "  net = Net(hidden_size=hidden_size, num_layers=num_layers)\n",
        "  if TCIA:\n",
        "    net.to(device)\n",
        "  print(net)\n",
        "\n",
        "  # Optimizer and criterion:\n",
        "  optimizer = optim.SGD(net.parameters(), lr=0.01 ,weight_decay=0.01)\n",
        "  #optimizer = optim.Adam(net.parameters(), lr=1e-2,weight_decay=0.01) # Adam seems to default to a mean\n",
        "  criterion = nn.MSELoss()# reduction='none') # did not work\n",
        "  #criterion = nn.L1loss(reduce=False)\n",
        "\n",
        "  batch_size = 508\n",
        "\n",
        "  savepath = \"/RNN/premade/SPLIT_batch\"+str(batch_size)+\"_hid\"+str(hidden_size)+\"_lay\"+str(num_layers)+\"_SDG_lr0.01_wd0.01_newnorm_seq\"+str(seq_lenght)+\".pt\""
      ]
    },
    {
      "cell_type": "code",
      "execution_count": 24,
      "metadata": {
        "id": "khFY5eq7qwTX"
      },
      "outputs": [],
      "source": [
        "#train_data.iloc[0,18:30]"
      ]
    },
    {
      "cell_type": "markdown",
      "metadata": {
        "id": "0bkBlskTpzan"
      },
      "source": [
        "#### Smaller net narrow net"
      ]
    },
    {
      "cell_type": "code",
      "execution_count": 25,
      "metadata": {
        "id": "vIg0gBXsp2gS"
      },
      "outputs": [],
      "source": [
        "if 0:\n",
        "  from torch.nn.modules import dropout\n",
        "  from operator import concat\n",
        "  # Narrow Net\n",
        "  import torch\n",
        "  import torch.nn as nn\n",
        "  import torch.optim as optim\n",
        "  import torch.nn.functional as F\n",
        "  from torch.autograd import Variable # or perhaps costum one?\n",
        "  import numpy as np # redundancy for quickload\n",
        "\n",
        "  TCIA = torch.cuda.is_available()\n",
        "  if TCIA:\n",
        "    device = torch.device(\"cuda\")\n",
        "  else:\n",
        "    device = torch.device(\"cpu\")\n",
        "  # Data is: 0:Pressure_seaLevel\t1:Direction_10m\t2:Direction_50m\t3:Direction_100m\t4:Direction_150m\t5:Speed_10m\t6:Speed_50m\t7:Speed_100m\t8:Speed_150m\t9:Temperature_10m\t10:Temperature_50m\t11:Temperature_100m\t12:Temperature_150m\t13:Air Density_10m\t14:Air Density_50m\t15:Air Density_100m\tAir 16:Density_150m\t17:PP\n",
        "  \n",
        "  class LSTM3(nn.Module):\n",
        "    def __init__(self, num_classes, seq_length, input_size, hidden_size, num_layers):\n",
        "        super(LSTM3, self).__init__()\n",
        "\n",
        "        self.num_classes = num_classes\n",
        "        self.num_layers = num_layers\n",
        "        self.input_size = input_size\n",
        "        self.hidden_size = hidden_size\n",
        "        self.seq_length = seq_length\n",
        "\n",
        "        self.lstm = nn.LSTM(input_size=input_size, hidden_size=hidden_size,\n",
        "                            num_layers=num_layers, batch_first=True, dropout=0.5)\n",
        "        self.sigmoid = nn.Sigmoid()\n",
        "        self.fc = nn.Linear(hidden_size, num_classes)\n",
        "        self.dropout = nn.Dropout(p=0.5)\n",
        "\n",
        "    def forward(self, x):\n",
        "        #h_0 = Variable(torch.zeros(\n",
        "         #   self.num_layers, x.size(0), self.hidden_size)).cuda()\n",
        "\n",
        "        #c_0 = Variable(torch.zeros(\n",
        "         #   self.num_layers, x.size(0), self.hidden_size)).cuda()\n",
        "\n",
        "        # Propagate input through LSTM\n",
        "        ula, (h_out, _) = self.lstm(x) # (h_0, c_0) not for printing\n",
        "        h_out = self.dropout(h_out)\n",
        "\n",
        "        h_out = h_out.view(-1, self.hidden_size)\n",
        "\n",
        "        out = self.fc(h_out)\n",
        "        out = self.sigmoid(out)\n",
        "\n",
        "        return out\n",
        "\n",
        "\n",
        "  #net2 = LSTM3(num_classes = 1, seq_length=96, input_size=4, hidden_size=30, num_layers=1)\n",
        "  net2 = LSTM3(1, 96, 4, 30, 1)\n",
        "  if TCIA:\n",
        "    net.to(device)\n",
        "  print(net)\n",
        "\n",
        "  # Optimizer and criterion:\n",
        "  optimizer = optim.SGD(net.parameters(), lr=0.01 ,weight_decay=0.01)\n",
        "  #optimizer = optim.Adam(net.parameters(), lr=0.01,weight_decay=0.1) # Adam seems to default to a mean\n",
        "  criterion = nn.MSELoss()# reduction='none') # did not work\n",
        "  #criterion = nn.L1loss(reduce=False)\n",
        "\n",
        "  batch_size = 508\n",
        "\n",
        "  savepath = \"/RNN/premade/SPLIT_batch\"+str(batch_size)+\"_hid\"+str(hidden_size)+\"_lay\"+str(num_layers)+\"_SDG_lr0.01_wd0.01_newnorm_seq\"+str(seq_lenght)+\".pt\""
      ]
    },
    {
      "cell_type": "markdown",
      "metadata": {
        "id": "6EpLGpdmmXaw"
      },
      "source": [
        "### Training"
      ]
    },
    {
      "cell_type": "markdown",
      "metadata": {
        "id": "6lh0qltCVafE"
      },
      "source": [
        "##### Playground"
      ]
    },
    {
      "cell_type": "code",
      "execution_count": 26,
      "metadata": {
        "id": "xYj2VVJQ8eZk"
      },
      "outputs": [],
      "source": [
        "#new_index"
      ]
    },
    {
      "cell_type": "code",
      "execution_count": 27,
      "metadata": {
        "id": "8oCNoAybg10r"
      },
      "outputs": [],
      "source": [
        "if 0:\n",
        "  # TESTEING PASSES\n",
        "  m = nn.Conv1d(in_channels=4, out_channels=14, kernel_size=6, stride=4).to('cpu')\n",
        "  net.to('cpu')\n",
        "  slce = range(0,batch_size)\n",
        "  # takes: N is a batch size, C denotes a number of channels, L is a length of signal sequence.\n",
        "  print(\"Training Shape: \",x_train.shape )\n",
        "\n",
        "  if 1: # do conv\n",
        "    input = x_train[slce,:,1:5]\n",
        "    print(\"Input Shape: \", input.shape )\n",
        "    input = input.permute(0,2,1)\n",
        "    print(\"Input Re-shapen: \", input.shape )\n",
        "\n",
        "    output = m( input ) # do relu after\n",
        "    print('Out shape:',output.shape ) # L_out should be: ( L_in + 2*pad - dilation * (kernel-1)-1) / stride + 1\n",
        "    # pool of size=3, stride=2\n",
        "    pool = nn.MaxPool1d(kernel_size=3,stride=3) \n",
        "    pool_out = pool( output )\n",
        "    print('Pool shape:',pool_out.shape )\n",
        "    #print(\"output is allmost constant Shape: \",output.data)\n",
        "    if 1: # add extra convolution\n",
        "      m = nn.Conv1d(in_channels=14, out_channels=7, kernel_size=3, stride=1).to(device)\n",
        "      output = m( pool_out )\n",
        "      print('2.Out shape:', output.shape ) # do relu after\n",
        "      pool_out = pool( output )\n",
        "      print('2.Pool shape:',pool_out.shape )\n",
        "\n",
        "    dense = nn.Linear(7*1,1)\n",
        "    out_dense = dense(pool_out.view(-1,7*1))\n",
        "    print('Dense shape:', out_dense.shape)\n",
        "\n",
        "\n",
        "  if 1: #do net\n",
        "    input = x_train[slce].to(device)\n",
        "    print(\"Net Input Shape: \", input.shape )\n",
        "    #print(\"last row in input, values: \",input[0,95,:])\n",
        "    output = net( input )\n",
        "    print('Net out shape: ', output.shape )\n",
        "    #print(\"output is allmost constant Shape: \",output.data)\n",
        "    \n"
      ]
    },
    {
      "cell_type": "code",
      "execution_count": 28,
      "metadata": {
        "id": "TbR62NduDdCR"
      },
      "outputs": [],
      "source": [
        "if 0:\n",
        "  import io\n",
        "  # Save to file, need to comment out Variable class to work\n",
        "  m = torch.jit.script(net2)\n",
        "  # torch.jit.save(m, 'scriptmodule.pt')\n",
        "  # This line is equivalent to the previous\n",
        "  m.save(\"scriptmodule2.pt\")"
      ]
    },
    {
      "cell_type": "code",
      "execution_count": 29,
      "metadata": {
        "id": "i1gUtJm2K6si"
      },
      "outputs": [],
      "source": [
        "# Quick load MODEL\n",
        "LOAD = 0 # if stuck in local maxima, try try again\n",
        "if LOAD:\n",
        "  net = LSTM(1,17,hidden_size , num_layers).to(device)\n",
        "  #savepath = \"/RNN/premade/batch\"+str(batch_size)+\"_hid\"+str(hidden_size)+\"_lay\"+str(num_layers)+\"_SDG_lr0.01_wd0.01_newnorm_seq\"+str(seq_lenght)+\".pt\"  \n",
        "  net.load_state_dict(torch.load(path+savepath))\n",
        "  net.eval()\n",
        "\n",
        "# quick load DATA\n",
        "LOAD = 0 # if stuck in local maxima, try try again\n",
        "if LOAD:\n",
        "  x_train = torch.load(path+\"/Data/\"+\"x_train3\"+\".pt\")\n",
        "  y_train = torch.load(path+\"/Data/\"+\"y_train3\"+\".pt\")\n",
        "  x_valid = torch.load(path+\"/Data/\"+\"x_valid3\"+\".pt\")\n",
        "  y_valid = torch.load(path+\"/Data/\"+\"y_valid3\"+\".pt\")\n",
        "  x_test = torch.load(path+\"/Data/\"+\"x_test3\"+\".pt\")\n",
        "  y_test = torch.load(path+\"/Data/\"+\"y_test3\"+\".pt\")\n"
      ]
    },
    {
      "cell_type": "markdown",
      "metadata": {
        "id": "GCO-CWVHvGz1"
      },
      "source": [
        "##### ACtual - train"
      ]
    },
    {
      "cell_type": "code",
      "execution_count": 30,
      "metadata": {
        "colab": {
          "base_uri": "https://localhost:8080/"
        },
        "id": "_IvGT_oUjfnj",
        "outputId": "785c2ba2-9c9b-4f3a-b1fc-cfeea1da0242"
      },
      "outputs": [
        {
          "output_type": "stream",
          "name": "stderr",
          "text": [
            "  0%|          | 1/200 [00:01<03:50,  1.16s/it]"
          ]
        },
        {
          "output_type": "stream",
          "name": "stdout",
          "text": [
            "  --Elapsed time: 1.15 seconds.\n",
            "\n",
            "Epoch  1 : Train Loss 0.005428 , Train error 0.072502, Valid error 0.050745\n"
          ]
        },
        {
          "output_type": "stream",
          "name": "stderr",
          "text": [
            "  6%|▌         | 11/200 [00:10<03:02,  1.04it/s]"
          ]
        },
        {
          "output_type": "stream",
          "name": "stdout",
          "text": [
            "  --Elapsed time: 9.60 seconds.\n",
            "\n",
            "Epoch 11 : Train Loss 0.005088 , Train error 0.067546, Valid error 0.046955\n"
          ]
        },
        {
          "output_type": "stream",
          "name": "stderr",
          "text": [
            " 10%|█         | 21/200 [00:20<02:51,  1.04it/s]"
          ]
        },
        {
          "output_type": "stream",
          "name": "stdout",
          "text": [
            "  --Elapsed time: 9.57 seconds.\n",
            "\n",
            "Epoch 21 : Train Loss 0.004752 , Train error 0.063019, Valid error 0.043434\n"
          ]
        },
        {
          "output_type": "stream",
          "name": "stderr",
          "text": [
            " 16%|█▌        | 31/200 [00:29<02:42,  1.04it/s]"
          ]
        },
        {
          "output_type": "stream",
          "name": "stdout",
          "text": [
            "  --Elapsed time: 9.60 seconds.\n",
            "\n",
            "Epoch 31 : Train Loss 0.004428 , Train error 0.058463, Valid error 0.039988\n"
          ]
        },
        {
          "output_type": "stream",
          "name": "stderr",
          "text": [
            " 20%|██        | 41/200 [00:39<02:32,  1.04it/s]"
          ]
        },
        {
          "output_type": "stream",
          "name": "stdout",
          "text": [
            "  --Elapsed time: 9.59 seconds.\n",
            "\n",
            "Epoch 41 : Train Loss 0.004078 , Train error 0.053508, Valid error 0.036260\n"
          ]
        },
        {
          "output_type": "stream",
          "name": "stderr",
          "text": [
            " 26%|██▌       | 51/200 [00:49<02:24,  1.03it/s]"
          ]
        },
        {
          "output_type": "stream",
          "name": "stdout",
          "text": [
            "  --Elapsed time: 9.65 seconds.\n",
            "\n",
            "Epoch 51 : Train Loss 0.003716 , Train error 0.048068, Valid error 0.032276\n"
          ]
        },
        {
          "output_type": "stream",
          "name": "stderr",
          "text": [
            " 30%|███       | 61/200 [00:59<02:27,  1.06s/it]"
          ]
        },
        {
          "output_type": "stream",
          "name": "stdout",
          "text": [
            "  --Elapsed time: 10.22 seconds.\n",
            "\n",
            "Epoch 61 : Train Loss 0.003334 , Train error 0.042111, Valid error 0.027952\n"
          ]
        },
        {
          "output_type": "stream",
          "name": "stderr",
          "text": [
            " 36%|███▌      | 71/200 [01:09<02:04,  1.03it/s]"
          ]
        },
        {
          "output_type": "stream",
          "name": "stdout",
          "text": [
            "  --Elapsed time: 9.61 seconds.\n",
            "\n",
            "Epoch 71 : Train Loss 0.002943 , Train error 0.036096, Valid error 0.023705\n"
          ]
        },
        {
          "output_type": "stream",
          "name": "stderr",
          "text": [
            " 40%|████      | 81/200 [01:18<01:54,  1.04it/s]"
          ]
        },
        {
          "output_type": "stream",
          "name": "stdout",
          "text": [
            "  --Elapsed time: 9.59 seconds.\n",
            "\n",
            "Epoch 81 : Train Loss 0.002563 , Train error 0.030495, Valid error 0.019866\n"
          ]
        },
        {
          "output_type": "stream",
          "name": "stderr",
          "text": [
            " 46%|████▌     | 91/200 [01:28<01:45,  1.04it/s]"
          ]
        },
        {
          "output_type": "stream",
          "name": "stdout",
          "text": [
            "  --Elapsed time: 9.59 seconds.\n",
            "\n",
            "Epoch 91 : Train Loss 0.002303 , Train error 0.025730, Valid error 0.016689\n"
          ]
        },
        {
          "output_type": "stream",
          "name": "stderr",
          "text": [
            " 50%|█████     | 101/200 [01:38<01:38,  1.00it/s]"
          ]
        },
        {
          "output_type": "stream",
          "name": "stdout",
          "text": [
            "  --Elapsed time: 10.72 seconds.\n",
            "\n",
            "Epoch 101 : Train Loss 0.002077 , Train error 0.022015, Valid error 0.014327\n"
          ]
        },
        {
          "output_type": "stream",
          "name": "stderr",
          "text": [
            " 56%|█████▌    | 111/200 [01:48<01:25,  1.04it/s]"
          ]
        },
        {
          "output_type": "stream",
          "name": "stdout",
          "text": [
            "  --Elapsed time: 9.58 seconds.\n",
            "\n",
            "Epoch 111 : Train Loss 0.001932 , Train error 0.019286, Valid error 0.012663\n"
          ]
        },
        {
          "output_type": "stream",
          "name": "stderr",
          "text": [
            " 60%|██████    | 121/200 [01:58<01:16,  1.04it/s]"
          ]
        },
        {
          "output_type": "stream",
          "name": "stdout",
          "text": [
            "  --Elapsed time: 9.61 seconds.\n",
            "\n",
            "Epoch 121 : Train Loss 0.001813 , Train error 0.017351, Valid error 0.011535\n"
          ]
        },
        {
          "output_type": "stream",
          "name": "stderr",
          "text": [
            " 66%|██████▌   | 131/200 [02:07<01:06,  1.04it/s]"
          ]
        },
        {
          "output_type": "stream",
          "name": "stdout",
          "text": [
            "  --Elapsed time: 9.59 seconds.\n",
            "\n",
            "Epoch 131 : Train Loss 0.001710 , Train error 0.015931, Valid error 0.010730\n"
          ]
        },
        {
          "output_type": "stream",
          "name": "stderr",
          "text": [
            " 70%|███████   | 141/200 [02:17<00:56,  1.04it/s]"
          ]
        },
        {
          "output_type": "stream",
          "name": "stdout",
          "text": [
            "  --Elapsed time: 9.56 seconds.\n",
            "\n",
            "Epoch 141 : Train Loss 0.001673 , Train error 0.014906, Valid error 0.010161\n"
          ]
        },
        {
          "output_type": "stream",
          "name": "stderr",
          "text": [
            " 76%|███████▌  | 151/200 [02:26<00:47,  1.04it/s]"
          ]
        },
        {
          "output_type": "stream",
          "name": "stdout",
          "text": [
            "  --Elapsed time: 9.57 seconds.\n",
            "\n",
            "Epoch 151 : Train Loss 0.001591 , Train error 0.014157, Valid error 0.009749\n"
          ]
        },
        {
          "output_type": "stream",
          "name": "stderr",
          "text": [
            " 80%|████████  | 161/200 [02:36<00:37,  1.04it/s]"
          ]
        },
        {
          "output_type": "stream",
          "name": "stdout",
          "text": [
            "  --Elapsed time: 9.61 seconds.\n",
            "\n",
            "Epoch 161 : Train Loss 0.001542 , Train error 0.013518, Valid error 0.009402\n"
          ]
        },
        {
          "output_type": "stream",
          "name": "stderr",
          "text": [
            " 86%|████████▌ | 171/200 [02:46<00:28,  1.03it/s]"
          ]
        },
        {
          "output_type": "stream",
          "name": "stdout",
          "text": [
            "  --Elapsed time: 9.62 seconds.\n",
            "\n",
            "Epoch 171 : Train Loss 0.001521 , Train error 0.013040, Valid error 0.009144\n"
          ]
        },
        {
          "output_type": "stream",
          "name": "stderr",
          "text": [
            " 90%|█████████ | 181/200 [02:55<00:18,  1.04it/s]"
          ]
        },
        {
          "output_type": "stream",
          "name": "stdout",
          "text": [
            "  --Elapsed time: 9.59 seconds.\n",
            "\n",
            "Epoch 181 : Train Loss 0.001469 , Train error 0.012645, Valid error 0.008921\n"
          ]
        },
        {
          "output_type": "stream",
          "name": "stderr",
          "text": [
            " 96%|█████████▌| 191/200 [03:05<00:08,  1.04it/s]"
          ]
        },
        {
          "output_type": "stream",
          "name": "stdout",
          "text": [
            "  --Elapsed time: 9.63 seconds.\n",
            "\n",
            "Epoch 191 : Train Loss 0.001476 , Train error 0.012313, Valid error 0.008735\n"
          ]
        },
        {
          "output_type": "stream",
          "name": "stderr",
          "text": [
            "100%|██████████| 200/200 [03:14<00:00,  1.03it/s]"
          ]
        },
        {
          "output_type": "stream",
          "name": "stdout",
          "text": [
            "  --Elapsed time: 8.64 seconds.\n",
            "\n"
          ]
        },
        {
          "output_type": "stream",
          "name": "stderr",
          "text": [
            "\n"
          ]
        }
      ],
      "source": [
        "if 1:\n",
        "  ## testING LOOP ,  ROLLING METHOD\n",
        "  EXTRA = [False, 3] # set multiplication of output, if and POW\n",
        "  num_epochs = 200\n",
        "\n",
        "  #tic()\n",
        "  #torch.sum( (y_valid[slce]-output.cpu())**2 ) /len(slce) # could be alternative\n",
        "  #toc()\n",
        "\n",
        "  # setting hyperparameters and gettings epoch sizes\n",
        "  #seq_lenght = 24*4# 1+3/4 hour, has to be devisible by batch?\n",
        "\n",
        "  num_samples_train = x_train.shape[0]\n",
        "  num_batches_train = num_samples_train // batch_size\n",
        "  num_samples_valid = x_valid.shape[0]\n",
        "  num_batches_valid = num_samples_valid // batch_size\n",
        "\n",
        "  # setting up lists for handling loss/accuracy:\n",
        "  train_acc, train_loss = [], []\n",
        "  valid_acc, valid_loss = [], []\n",
        "  test_acc, test_loss = [], []\n",
        "  finalout_train, finalout_valid = [], []\n",
        "  train_acc_comp_total, valid_acc_comp_total = [], [] # accuracy for competition\n",
        "\n",
        "  cur_loss = 0\n",
        "  losses = []\n",
        "\n",
        "\n",
        "  # Define slice function:\n",
        "  get_slice = lambda i, size: range(i * size, (i + 1) * size)\n",
        "\n",
        "  tic() # starts a tick for the first iteration\n",
        "  for epoch in tqdm(range(num_epochs)): # tqdm\n",
        "      ## Train\n",
        "      cur_loss = 0\n",
        "      net.train()\n",
        "      for i in ( range(num_batches_train) ):\n",
        "          \n",
        "          optimizer.zero_grad()\n",
        "          slce = get_slice(i, batch_size)        \n",
        "          input = x_train[slce].to(device)\n",
        "          output = net( input )\n",
        "\n",
        "          # compute gradients given loss\n",
        "          target_batch = y_train[slce].to(device)#.long() # = torch.from_numpy(targets_train[slce])#.long()\n",
        "          batch_loss = criterion(output, target_batch) # deleted [:,2] to fix shape \n",
        "          \n",
        "          batch_loss.backward()  \n",
        "          optimizer.step()\n",
        "          \n",
        "          cur_loss += batch_loss.mean()   \n",
        "      losses.append(cur_loss / batch_size)\n",
        "\n",
        "      net.eval()\n",
        "      ### Evaluate training\n",
        "      train_preds, train_targs, train_acc_epoch, train_acc_comp = [], [], [], []\n",
        "      for i in range(num_batches_train):\n",
        "          slce = get_slice(i, batch_size)\n",
        "          input = x_train[slce].to(device)\n",
        "          output  = net( input ) # .cuda()\n",
        "          #finalout_train.append(output.to(\"cpu\"))\n",
        "          \n",
        "          preds = output.data.cpu().numpy() # to make list of list into single list\n",
        "          if EXTRA[0]:\n",
        "            preds = (preds-preds.min())/ (preds.max() - preds.min()) # MAP [0;1]\n",
        "          targs = y_train[slce].numpy()\n",
        "          train_targs += list(targs) # perhaps use mini_slce\n",
        "          train_preds += list(preds)\n",
        "          train_acc_comp += list((   1- ( np.sqrt( sum(((targs - preds)**2)) ) ) / ( np.sqrt(len(slce)) )   )*100)\n",
        "          \n",
        "      \n",
        "      ### Evaluate validation\n",
        "      valid_targs, valid_preds, valid_acc_epoch, valid_acc_comp = [], [], [], []\n",
        "      for i in range(num_batches_valid):\n",
        "          slce = get_slice(i, batch_size)\n",
        "          input = x_valid[slce].to(device)\n",
        "          output  = net( input ) # .cuda()\n",
        "          #finalout_valid.append(output.to(\"cpu\"))\n",
        "          \n",
        "          preds = output.data.cpu().numpy() # to make list of list into single list\n",
        "          if EXTRA[0]:\n",
        "            preds = (preds-preds.min())/ (preds.max() - preds.min()) # MAP [0;1]\n",
        "          targs = y_valid[slce].numpy()\n",
        "          valid_targs += list(targs)#.numpy()) # perhaps use mini_slce\n",
        "          valid_preds += list(preds)\n",
        "          valid_acc_comp += list((   1- ( np.sqrt( sum(((targs - preds)**2)) ) ) / ( np.sqrt(len(slce)) )   )*100)\n",
        "\n",
        "\n",
        "      ## Epoch accuracy:\n",
        "      train_acc_epoch = ((np.array(train_targs)-np.array(train_preds))**2).sum()/len(train_targs)\n",
        "      valid_acc_epoch = ((np.array(valid_targs)-np.array(valid_preds))**2).sum()/len(valid_targs)\n",
        "      \n",
        "      ## Accuracy list:\n",
        "      train_acc.append(train_acc_epoch)\n",
        "      valid_acc.append(valid_acc_epoch)\n",
        "      train_acc_comp_total.append(np.mean(train_acc_comp))\n",
        "      valid_acc_comp_total.append(np.mean(valid_acc_comp))\n",
        "      \n",
        "      if epoch % 10 == 0:\n",
        "          toc() # reverse due to structure\n",
        "          torch.save(net.state_dict(), path+savepath)\n",
        "          print(\"Epoch %2i : Train Loss %f , Train error %f, Valid error %f\" % (\n",
        "                  epoch+1, losses[-1], train_acc_epoch, valid_acc_epoch))\n",
        "          tic() # reverse due to structure\n",
        "  toc() # ends the final initiated tic()\n",
        "\n",
        "  # SAVE MODEL\n",
        "  SAVE = True\n",
        "  if SAVE:\n",
        "    # savepath = \"/RNN/premade/batch\"+str(batch_size)+\"_hid\"+str(hidden)+\"_lay\"+str(layers)+\"_SDG_wd_newnorm.pt\"\n",
        "    torch.save(net.state_dict(), path+savepath)"
      ]
    },
    {
      "cell_type": "markdown",
      "metadata": {
        "id": "thnBvL8Ymi32"
      },
      "source": [
        "#### Results"
      ]
    },
    {
      "cell_type": "code",
      "execution_count": 31,
      "metadata": {
        "colab": {
          "base_uri": "https://localhost:8080/",
          "height": 935
        },
        "id": "9B9hrpV_sEpx",
        "outputId": "b2dc37fb-847e-4d71-9897-96daa00639ef"
      },
      "outputs": [
        {
          "output_type": "stream",
          "name": "stdout",
          "text": [
            "Scoring is:  91.6264\n",
            "With a mulitiplier:  10\n"
          ]
        },
        {
          "output_type": "display_data",
          "data": {
            "image/png": "[encoded data removed]",
            "text/plain": [
              "<Figure size 1008x504 with 2 Axes>"
            ]
          },
          "metadata": {
            "needs_background": "light"
          }
        },
        {
          "output_type": "display_data",
          "data": {
            "image/png": "[encoded data removed]",
            "text/plain": [
              "<Figure size 1008x504 with 2 Axes>"
            ]
          },
          "metadata": {
            "needs_background": "light"
          }
        }
      ],
      "source": [
        "# net.to(\"cpu\")\n",
        "import matplotlib.pyplot as plt\n",
        "print('Scoring is: ',max(valid_acc_comp_total))\n",
        "print('With a mulitiplier: ', muliplier*10)\n",
        "if 1:\n",
        "  fig = plt.figure(figsize=(14,7))\n",
        "  ax = fig.add_subplot(1,2,1)\n",
        "  epoch = np.arange(len(train_acc))\n",
        "  #plt.figure()\n",
        "  plt.plot(epoch, train_acc, 'r', epoch, valid_acc, 'b')\n",
        "  plt.legend(['Train','Validation'])\n",
        "  plt.xlabel('Updates / Epochs'), plt.ylabel('MSE Loss')\n",
        "  plt.title(\"MSE Loss for each epoch / update\")\n",
        "\n",
        "  ax = fig.add_subplot(1,2,2)\n",
        "  plt.plot(epoch, train_acc_comp_total, 'r', epoch, valid_acc_comp_total, 'b')\n",
        "  plt.legend(['Train','Validation'])\n",
        "  plt.xlabel('Updates / Epochs'), plt.ylabel('Accuracy [%]')\n",
        "  plt.title(\"Scoring percentage for competition\")\n",
        "  plt.show()\n",
        "\n",
        "fig = plt.figure(figsize=(14,7))\n",
        "ax = fig.add_subplot(1,2,1)\n",
        "ax.title.set_text(\"Training Data\")\n",
        "ax.plot(train_preds, alpha=0.5) # to.(\"cpu\").detach() #.to(\"cpu\")\n",
        "ax.plot(y_train, alpha=0.5)\n",
        "ax.set_ylabel(\"Normalized Power\")\n",
        "ax.set_xlabel(\"Observation # [Each 15 min]\")\n",
        "#ax.set_xlim([0, 3000])\n",
        "ax.legend(['Predictions', \"Actual\"])\n",
        "\n",
        "ax = fig.add_subplot(1,2,2)\n",
        "ax.title.set_text(\"Validation Data\")\n",
        "ax.plot(valid_preds, alpha=0.5)\n",
        "ax.plot(y_valid, alpha=0.5)\n",
        "ax.set_ylabel(\"Normalized Power\")\n",
        "ax.set_xlabel(\"Observation # [Each 15 min]\")\n",
        "#ax.set_xlim([0, 3000])\n",
        "ax.legend(['Predictions', \"Actual\"])\n",
        "\n",
        "plt.show()"
      ]
    },
    {
      "cell_type": "code",
      "execution_count": 32,
      "metadata": {
        "colab": {
          "base_uri": "https://localhost:8080/",
          "height": 513
        },
        "id": "a_UcCzgKz1xh",
        "outputId": "5ed5bcdb-f3c3-4c41-b66b-ae42e010b88e"
      },
      "outputs": [
        {
          "output_type": "display_data",
          "data": {
            "image/png": "[encoded data removed]",
            "text/plain": [
              "<Figure size 1728x576 with 2 Axes>"
            ]
          },
          "metadata": {
            "needs_background": "light"
          }
        }
      ],
      "source": [
        "firstlim , limlim = 1000, 2000\n",
        "fig = plt.figure(figsize=(24,8))\n",
        "ax = fig.add_subplot(1,2,1)\n",
        "ax.title.set_text(\"Training Data at epoch: \")\n",
        "ax.plot(train_preds*10, alpha=0.5) # to.(\"cpu\").detach() #.to(\"cpu\")\n",
        "ax.plot(y_train, alpha=0.5)\n",
        "ax.set_ylabel(\"Normalized Power\")\n",
        "ax.set_xlabel(\"Observation # [Each 15 min]\")\n",
        "ax.set_xlim([firstlim, limlim])\n",
        "ax.legend(['Predictions', \"Actual\"])\n",
        "\n",
        "ax = fig.add_subplot(1,2,2)\n",
        "ax.title.set_text(\"Validation Data\")\n",
        "ax.plot(valid_preds, alpha=0.5)\n",
        "ax.plot(y_valid, alpha=0.5)\n",
        "ax.set_ylabel(\"Normalized Power\")\n",
        "ax.set_xlabel(\"Observation # [Each 15 min]\")\n",
        "ax.set_xlim([firstlim, limlim])\n",
        "ax.legend(['Predictions', \"Actual\"])\n",
        "\n",
        "plt.show()"
      ]
    },
    {
      "cell_type": "code",
      "execution_count": 33,
      "metadata": {
        "id": "SS2mB0ulVa0k"
      },
      "outputs": [],
      "source": [
        "# SAVE FIGURES\n",
        "#Saving the plot as an image\n",
        "SAVE = 0\n",
        "if SAVE:\n",
        "  savepath = \"/plots/batch\"+str(batch_size)+\"_hid\"+str(hidden)+\"_lay\"+str(layers)+\"_ADAM_drop025\"\n",
        "  fig.savefig(path+savepath+'.jpg', bbox_inches='tight', dpi=150)"
      ]
    }
  ],
  "metadata": {
    "accelerator": "GPU",
    "colab": {
      "collapsed_sections": [
        "TzFeHPiOeFXE",
        "vgTm1lJseKUJ",
        "7qmkkzlMV4-K",
        "8FHHpLHxhQun",
        "XqEAJ-O9wajA",
        "MSSEMAoqu-p5"
      ],
      "name": "Williams Meteodyn (WIP).ipynb",
      "provenance": []
    },
    "kernelspec": {
      "display_name": "Python 3",
      "name": "python3"
    },
    "language_info": {
      "name": "python"
    }
  },
  "nbformat": 4,
  "nbformat_minor": 0
}